{
 "cells": [
  {
   "cell_type": "code",
   "execution_count": 3,
   "id": "f804c4a6",
   "metadata": {},
   "outputs": [],
   "source": [
    "import pandas as pd\n",
    "import matplotlib.pyplot as plt\n",
    "import sklearn\n",
    "import numpy as np\n",
    "import seaborn as sns \n",
    "\n",
    "from sklearn.preprocessing import OrdinalEncoder\n",
    "from sklearn.preprocessing import StandardScaler\n",
    "\n",
    "from sklearn.preprocessing import MinMaxScaler\n",
    "from sklearn.decomposition import PCA\n",
    "from sklearn.feature_selection import SelectPercentile\n",
    "\n",
    "from sklearn.neighbors import KNeighborsRegressor\n",
    "from sklearn.model_selection import KFold\n",
    "from sklearn.svm import SVR\n",
    "from sklearn.model_selection import train_test_split\n",
    "from sklearn.model_selection import cross_val_score\n",
    "from sklearn.model_selection import cross_validate\n",
    "\n",
    "from sklearn import metrics\n",
    "from sklearn.linear_model import LinearRegression, Ridge, Lasso\n",
    "from sklearn.ensemble import RandomForestRegressor\n",
    "\n",
    "\n",
    "from numpy import loadtxt\n",
    "from sklearn.model_selection import train_test_split\n",
    "from sklearn.metrics import accuracy_score\n",
    "\n",
    "\n",
    "import warnings\n",
    "\n",
    "import pickle\n",
    "\n",
    "sns.set()\n",
    "warnings.filterwarnings('ignore')\n",
    "\n",
    "from sklearn.feature_selection import mutual_info_regression, SelectKBest, chi2\n",
    "from sklearn.ensemble import ExtraTreesClassifier, RandomForestRegressor, RandomForestClassifier, StackingClassifier, GradientBoostingClassifier\n",
    "from sklearn.preprocessing import StandardScaler, scale, MinMaxScaler\n",
    "from sklearn.decomposition import PCA\n",
    "from sklearn.metrics import accuracy_score, classification_report, confusion_matrix, mean_absolute_percentage_error, mean_squared_error, roc_auc_score, log_loss, precision_recall_fscore_support, mean_absolute_error\n",
    "from sklearn.model_selection import train_test_split, cross_val_score, cross_validate, GridSearchCV, RandomizedSearchCV\n",
    "from sklearn.linear_model import LogisticRegression\n",
    "from sklearn.pipeline import Pipeline\n",
    "\n",
    "from sklearn.discriminant_analysis import QuadraticDiscriminantAnalysis\n",
    "from sklearn.discriminant_analysis import LinearDiscriminantAnalysis\n",
    "\n",
    "from imblearn.over_sampling import RandomOverSampler, SMOTE\n",
    "\n",
    "from pprint import pprint\n",
    "import xgboost\n",
    "from xgboost import XGBRegressor, XGBClassifier\n",
    "\n",
    "from sklearn.tree import DecisionTreeClassifier"
   ]
  },
  {
   "cell_type": "code",
   "execution_count": 4,
   "id": "556e1ef1",
   "metadata": {},
   "outputs": [
    {
     "data": {
      "text/html": [
       "<div>\n",
       "<style scoped>\n",
       "    .dataframe tbody tr th:only-of-type {\n",
       "        vertical-align: middle;\n",
       "    }\n",
       "\n",
       "    .dataframe tbody tr th {\n",
       "        vertical-align: top;\n",
       "    }\n",
       "\n",
       "    .dataframe thead th {\n",
       "        text-align: right;\n",
       "    }\n",
       "</style>\n",
       "<table border=\"1\" class=\"dataframe\">\n",
       "  <thead>\n",
       "    <tr style=\"text-align: right;\">\n",
       "      <th></th>\n",
       "      <th>Unnamed: 0</th>\n",
       "      <th>ListingKey</th>\n",
       "      <th>CreditGrade</th>\n",
       "      <th>Term</th>\n",
       "      <th>LoanStatus</th>\n",
       "      <th>BorrowerAPR</th>\n",
       "      <th>BorrowerRate</th>\n",
       "      <th>LenderYield</th>\n",
       "      <th>EstimatedEffectiveYield</th>\n",
       "      <th>EstimatedLoss</th>\n",
       "      <th>...</th>\n",
       "      <th>PercentFunded</th>\n",
       "      <th>Recommendations</th>\n",
       "      <th>InvestmentFromFriendsCount</th>\n",
       "      <th>InvestmentFromFriendsAmount</th>\n",
       "      <th>Investors</th>\n",
       "      <th>date</th>\n",
       "      <th>year</th>\n",
       "      <th>month</th>\n",
       "      <th>ListingCategory</th>\n",
       "      <th>WageGroup</th>\n",
       "    </tr>\n",
       "  </thead>\n",
       "  <tbody>\n",
       "    <tr>\n",
       "      <th>0</th>\n",
       "      <td>0</td>\n",
       "      <td>1021339766868145413AB3B</td>\n",
       "      <td>C</td>\n",
       "      <td>36</td>\n",
       "      <td>1</td>\n",
       "      <td>0.16516</td>\n",
       "      <td>0.1580</td>\n",
       "      <td>0.1380</td>\n",
       "      <td>0.13885</td>\n",
       "      <td>0.0724</td>\n",
       "      <td>...</td>\n",
       "      <td>1.0</td>\n",
       "      <td>0</td>\n",
       "      <td>0</td>\n",
       "      <td>0.0</td>\n",
       "      <td>258</td>\n",
       "      <td>2007-08-26</td>\n",
       "      <td>2007</td>\n",
       "      <td>8</td>\n",
       "      <td>Not Available</td>\n",
       "      <td>MediumWage</td>\n",
       "    </tr>\n",
       "    <tr>\n",
       "      <th>1</th>\n",
       "      <td>11</td>\n",
       "      <td>0F1734025150298088A5F2B</td>\n",
       "      <td>C</td>\n",
       "      <td>36</td>\n",
       "      <td>1</td>\n",
       "      <td>0.15033</td>\n",
       "      <td>0.1325</td>\n",
       "      <td>0.1225</td>\n",
       "      <td>0.11335</td>\n",
       "      <td>0.0724</td>\n",
       "      <td>...</td>\n",
       "      <td>1.0</td>\n",
       "      <td>0</td>\n",
       "      <td>0</td>\n",
       "      <td>0.0</td>\n",
       "      <td>53</td>\n",
       "      <td>2007-10-09</td>\n",
       "      <td>2007</td>\n",
       "      <td>10</td>\n",
       "      <td>Not Available</td>\n",
       "      <td>LowWage</td>\n",
       "    </tr>\n",
       "    <tr>\n",
       "      <th>2</th>\n",
       "      <td>12</td>\n",
       "      <td>0F1A3597143888805163EF7</td>\n",
       "      <td>Unknown</td>\n",
       "      <td>36</td>\n",
       "      <td>0</td>\n",
       "      <td>0.17969</td>\n",
       "      <td>0.1435</td>\n",
       "      <td>0.1335</td>\n",
       "      <td>0.12640</td>\n",
       "      <td>0.0524</td>\n",
       "      <td>...</td>\n",
       "      <td>1.0</td>\n",
       "      <td>0</td>\n",
       "      <td>0</td>\n",
       "      <td>0.0</td>\n",
       "      <td>1</td>\n",
       "      <td>2013-12-15</td>\n",
       "      <td>2013</td>\n",
       "      <td>12</td>\n",
       "      <td>Debt Consolidation</td>\n",
       "      <td>LowWage</td>\n",
       "    </tr>\n",
       "    <tr>\n",
       "      <th>3</th>\n",
       "      <td>15</td>\n",
       "      <td>0F483544120452347F48121</td>\n",
       "      <td>Unknown</td>\n",
       "      <td>36</td>\n",
       "      <td>0</td>\n",
       "      <td>0.35797</td>\n",
       "      <td>0.3177</td>\n",
       "      <td>0.3077</td>\n",
       "      <td>0.28960</td>\n",
       "      <td>0.1650</td>\n",
       "      <td>...</td>\n",
       "      <td>1.0</td>\n",
       "      <td>0</td>\n",
       "      <td>0</td>\n",
       "      <td>0.0</td>\n",
       "      <td>10</td>\n",
       "      <td>2012-04-10</td>\n",
       "      <td>2012</td>\n",
       "      <td>4</td>\n",
       "      <td>Household Expenses</td>\n",
       "      <td>MediumWage</td>\n",
       "    </tr>\n",
       "    <tr>\n",
       "      <th>4</th>\n",
       "      <td>21</td>\n",
       "      <td>1017340630713945364DA6B</td>\n",
       "      <td>D</td>\n",
       "      <td>36</td>\n",
       "      <td>1</td>\n",
       "      <td>0.21488</td>\n",
       "      <td>0.2075</td>\n",
       "      <td>0.1975</td>\n",
       "      <td>0.18835</td>\n",
       "      <td>0.0724</td>\n",
       "      <td>...</td>\n",
       "      <td>1.0</td>\n",
       "      <td>0</td>\n",
       "      <td>0</td>\n",
       "      <td>0.0</td>\n",
       "      <td>53</td>\n",
       "      <td>2007-11-30</td>\n",
       "      <td>2007</td>\n",
       "      <td>11</td>\n",
       "      <td>Not Available</td>\n",
       "      <td>MediumWage</td>\n",
       "    </tr>\n",
       "  </tbody>\n",
       "</table>\n",
       "<p>5 rows × 71 columns</p>\n",
       "</div>"
      ],
      "text/plain": [
       "   Unnamed: 0               ListingKey CreditGrade  Term  LoanStatus  \\\n",
       "0           0  1021339766868145413AB3B           C    36           1   \n",
       "1          11  0F1734025150298088A5F2B           C    36           1   \n",
       "2          12  0F1A3597143888805163EF7     Unknown    36           0   \n",
       "3          15  0F483544120452347F48121     Unknown    36           0   \n",
       "4          21  1017340630713945364DA6B           D    36           1   \n",
       "\n",
       "   BorrowerAPR  BorrowerRate  LenderYield  EstimatedEffectiveYield  \\\n",
       "0      0.16516        0.1580       0.1380                  0.13885   \n",
       "1      0.15033        0.1325       0.1225                  0.11335   \n",
       "2      0.17969        0.1435       0.1335                  0.12640   \n",
       "3      0.35797        0.3177       0.3077                  0.28960   \n",
       "4      0.21488        0.2075       0.1975                  0.18835   \n",
       "\n",
       "   EstimatedLoss  ...  PercentFunded  Recommendations  \\\n",
       "0         0.0724  ...            1.0                0   \n",
       "1         0.0724  ...            1.0                0   \n",
       "2         0.0524  ...            1.0                0   \n",
       "3         0.1650  ...            1.0                0   \n",
       "4         0.0724  ...            1.0                0   \n",
       "\n",
       "   InvestmentFromFriendsCount  InvestmentFromFriendsAmount Investors  \\\n",
       "0                           0                          0.0       258   \n",
       "1                           0                          0.0        53   \n",
       "2                           0                          0.0         1   \n",
       "3                           0                          0.0        10   \n",
       "4                           0                          0.0        53   \n",
       "\n",
       "         date  year  month     ListingCategory   WageGroup  \n",
       "0  2007-08-26  2007      8       Not Available  MediumWage  \n",
       "1  2007-10-09  2007     10       Not Available     LowWage  \n",
       "2  2013-12-15  2013     12  Debt Consolidation     LowWage  \n",
       "3  2012-04-10  2012      4  Household Expenses  MediumWage  \n",
       "4  2007-11-30  2007     11       Not Available  MediumWage  \n",
       "\n",
       "[5 rows x 71 columns]"
      ]
     },
     "execution_count": 4,
     "metadata": {},
     "output_type": "execute_result"
    }
   ],
   "source": [
    "loan_df=pd.read_csv(\"loan_data_file.csv\")\n",
    "loan_df.head()"
   ]
  },
  {
   "cell_type": "code",
   "execution_count": 5,
   "id": "9b4d0e30",
   "metadata": {},
   "outputs": [],
   "source": [
    "loan_df.drop(\"Unnamed: 0\",axis=1,inplace=True)"
   ]
  },
  {
   "cell_type": "code",
   "execution_count": 6,
   "id": "c61cf12d",
   "metadata": {},
   "outputs": [
    {
     "data": {
      "text/plain": [
       "0    70\n",
       "dtype: int64"
      ]
     },
     "execution_count": 6,
     "metadata": {},
     "output_type": "execute_result"
    }
   ],
   "source": [
    "loan_df.isna().sum().value_counts()"
   ]
  },
  {
   "cell_type": "markdown",
   "id": "956c9e80",
   "metadata": {},
   "source": [
    "## Feature Engineering\n",
    "***It's safe to drop the PercentFunded variable. BorrowerAPR and LenderYield are both versions of BorrowerRate, just with fees included, so they're unnecessary. occupation is a broad and hard to use column the estimation are unnecessary as it's our role to perform better than them***"
   ]
  },
  {
   "cell_type": "code",
   "execution_count": 7,
   "id": "05bc2e92",
   "metadata": {},
   "outputs": [
    {
     "name": "stdout",
     "output_type": "stream",
     "text": [
      "<class 'pandas.core.frame.DataFrame'>\n",
      "RangeIndex: 49724 entries, 0 to 49723\n",
      "Data columns (total 42 columns):\n",
      " #   Column                              Non-Null Count  Dtype  \n",
      "---  ------                              --------------  -----  \n",
      " 0   CreditGrade                         49724 non-null  object \n",
      " 1   Term                                49724 non-null  int64  \n",
      " 2   LoanStatus                          49724 non-null  int64  \n",
      " 3   BorrowerAPR                         49724 non-null  float64\n",
      " 4   BorrowerRate                        49724 non-null  float64\n",
      " 5   LenderYield                         49724 non-null  float64\n",
      " 6   ProsperScore                        49724 non-null  int64  \n",
      " 7   BorrowerState                       49724 non-null  object \n",
      " 8   EmploymentStatus                    49724 non-null  int64  \n",
      " 9   IsBorrowerHomeowner                 49724 non-null  bool   \n",
      " 10  CreditScore                         49724 non-null  float64\n",
      " 11  FirstRecordedCreditLine             49724 non-null  object \n",
      " 12  CurrentCreditLines                  49724 non-null  float64\n",
      " 13  OpenCreditLines                     49724 non-null  float64\n",
      " 14  TotalCreditLinespast7years          49724 non-null  float64\n",
      " 15  OpenRevolvingAccounts               49724 non-null  int64  \n",
      " 16  OpenRevolvingMonthlyPayment         49724 non-null  float64\n",
      " 17  InquiriesLast6Months                49724 non-null  float64\n",
      " 18  TotalInquiries                      49724 non-null  float64\n",
      " 19  RevolvingCreditBalance              49724 non-null  float64\n",
      " 20  BankcardUtilization                 49724 non-null  float64\n",
      " 21  AvailableBankcardCredit             49724 non-null  float64\n",
      " 22  TotalTrades                         49724 non-null  float64\n",
      " 23  TradesNeverDelinquent (percentage)  49724 non-null  float64\n",
      " 24  DebtToIncomeRatio                   49724 non-null  float64\n",
      " 25  IncomeVerifiable                    49724 non-null  bool   \n",
      " 26  StatedMonthlyIncome                 49724 non-null  float64\n",
      " 27  LoanMonthsSinceOrigination          49724 non-null  int64  \n",
      " 28  LoanOriginalAmount                  49724 non-null  int64  \n",
      " 29  MonthlyLoanPayment                  49724 non-null  float64\n",
      " 30  LP_CustomerPayments                 49724 non-null  float64\n",
      " 31  LP_CustomerPrincipalPayments        49724 non-null  float64\n",
      " 32  LP_InterestandFees                  49724 non-null  float64\n",
      " 33  LP_ServiceFees                      49724 non-null  float64\n",
      " 34  LP_CollectionFees                   49724 non-null  float64\n",
      " 35  LP_GrossPrincipalLoss               49724 non-null  float64\n",
      " 36  LP_NetPrincipalLoss                 49724 non-null  float64\n",
      " 37  LP_NonPrincipalRecoverypayments     49724 non-null  float64\n",
      " 38  Investors                           49724 non-null  int64  \n",
      " 39  year                                49724 non-null  int64  \n",
      " 40  month                               49724 non-null  int64  \n",
      " 41  WageGroup                           49724 non-null  object \n",
      "dtypes: bool(2), float64(26), int64(10), object(4)\n",
      "memory usage: 15.3+ MB\n"
     ]
    }
   ],
   "source": [
    "loan_df.drop([\"EstimatedEffectiveYield\", \"EstimatedLoss\", \"EstimatedReturn\",\n",
    "                  \"Occupation\", \"CurrentlyInGroup\", \"GroupKey\", \"PercentFunded\",\"ProsperRating (numeric)\",\n",
    "                  \"Recommendations\", \"InvestmentFromFriendsCount\", \"InvestmentFromFriendsAmount\",\n",
    "                  \"date\" , \"TotalProsperLoans\",\"TotalProsperPaymentsBilled\",\"OnTimeProsperPayments\",\n",
    "                  \"ProsperPaymentsLessThanOneMonthLate\",\"ProsperPaymentsOneMonthPlusLate\",\"ProsperPrincipalBorrowed\",\n",
    "                  \"ProsperPrincipalOutstanding\",\"ListingKey\",\"ListingCategory (numeric)\",\"ListingCategory\",\n",
    "                'CurrentDelinquencies','AmountDelinquent','DelinquenciesLast7Years',\"TradesOpenedLast6Months\",\"PublicRecordsLast10Years\",\"PublicRecordsLast12Months\",\n",
    "                ], axis=1,\n",
    "                inplace=True)\n",
    "\n",
    "loan_df.info()"
   ]
  },
  {
   "cell_type": "code",
   "execution_count": 8,
   "id": "47979535",
   "metadata": {},
   "outputs": [
    {
     "data": {
      "text/plain": [
       "0    1\n",
       "1    0\n",
       "2    0\n",
       "3    1\n",
       "4    0\n",
       "5    0\n",
       "6    0\n",
       "7    1\n",
       "8    0\n",
       "9    0\n",
       "Name: IsBorrowerHomeowner, dtype: int32"
      ]
     },
     "execution_count": 8,
     "metadata": {},
     "output_type": "execute_result"
    }
   ],
   "source": [
    "#adjusting the data types\n",
    "loan_df[\"IsBorrowerHomeowner\"] = loan_df[\"IsBorrowerHomeowner\"].astype(int)\n",
    "\n",
    "\n",
    "loan_df[\"IsBorrowerHomeowner\"][:10]"
   ]
  },
  {
   "cell_type": "code",
   "execution_count": 9,
   "id": "c6451b50",
   "metadata": {},
   "outputs": [
    {
     "data": {
      "text/plain": [
       "0    13\n",
       "1    14\n",
       "2    18\n",
       "3    15\n",
       "4    11\n",
       "5    16\n",
       "6    39\n",
       "7    14\n",
       "8    26\n",
       "9    11\n",
       "Name: YearsWithCredit, dtype: int64"
      ]
     },
     "execution_count": 9,
     "metadata": {},
     "output_type": "execute_result"
    }
   ],
   "source": [
    "first_credit_year = loan_df[\"FirstRecordedCreditLine\"].str[:4]\n",
    "\n",
    "loan_df[\"YearsWithCredit\"] = 2014 - pd.to_numeric(first_credit_year)\n",
    "\n",
    "loan_df.drop(\"FirstRecordedCreditLine\", axis=1, inplace=True)\n",
    "\n",
    "loan_df[\"YearsWithCredit\"][:10]"
   ]
  },
  {
   "cell_type": "code",
   "execution_count": 10,
   "id": "3c3a53c5",
   "metadata": {},
   "outputs": [],
   "source": [
    "loan_df.drop([\"BorrowerState\"],inplace=True, axis=1)\n"
   ]
  },
  {
   "cell_type": "code",
   "execution_count": 11,
   "id": "5afb44d4",
   "metadata": {},
   "outputs": [
    {
     "name": "stdout",
     "output_type": "stream",
     "text": [
      "<class 'pandas.core.frame.DataFrame'>\n",
      "RangeIndex: 49724 entries, 0 to 49723\n",
      "Data columns (total 41 columns):\n",
      " #   Column                              Non-Null Count  Dtype  \n",
      "---  ------                              --------------  -----  \n",
      " 0   CreditGrade                         49724 non-null  object \n",
      " 1   Term                                49724 non-null  int64  \n",
      " 2   LoanStatus                          49724 non-null  int64  \n",
      " 3   BorrowerAPR                         49724 non-null  float64\n",
      " 4   BorrowerRate                        49724 non-null  float64\n",
      " 5   LenderYield                         49724 non-null  float64\n",
      " 6   ProsperScore                        49724 non-null  int64  \n",
      " 7   EmploymentStatus                    49724 non-null  int64  \n",
      " 8   IsBorrowerHomeowner                 49724 non-null  int32  \n",
      " 9   CreditScore                         49724 non-null  float64\n",
      " 10  CurrentCreditLines                  49724 non-null  float64\n",
      " 11  OpenCreditLines                     49724 non-null  float64\n",
      " 12  TotalCreditLinespast7years          49724 non-null  float64\n",
      " 13  OpenRevolvingAccounts               49724 non-null  int64  \n",
      " 14  OpenRevolvingMonthlyPayment         49724 non-null  float64\n",
      " 15  InquiriesLast6Months                49724 non-null  float64\n",
      " 16  TotalInquiries                      49724 non-null  float64\n",
      " 17  RevolvingCreditBalance              49724 non-null  float64\n",
      " 18  BankcardUtilization                 49724 non-null  float64\n",
      " 19  AvailableBankcardCredit             49724 non-null  float64\n",
      " 20  TotalTrades                         49724 non-null  float64\n",
      " 21  TradesNeverDelinquent (percentage)  49724 non-null  float64\n",
      " 22  DebtToIncomeRatio                   49724 non-null  float64\n",
      " 23  IncomeVerifiable                    49724 non-null  bool   \n",
      " 24  StatedMonthlyIncome                 49724 non-null  float64\n",
      " 25  LoanMonthsSinceOrigination          49724 non-null  int64  \n",
      " 26  LoanOriginalAmount                  49724 non-null  int64  \n",
      " 27  MonthlyLoanPayment                  49724 non-null  float64\n",
      " 28  LP_CustomerPayments                 49724 non-null  float64\n",
      " 29  LP_CustomerPrincipalPayments        49724 non-null  float64\n",
      " 30  LP_InterestandFees                  49724 non-null  float64\n",
      " 31  LP_ServiceFees                      49724 non-null  float64\n",
      " 32  LP_CollectionFees                   49724 non-null  float64\n",
      " 33  LP_GrossPrincipalLoss               49724 non-null  float64\n",
      " 34  LP_NetPrincipalLoss                 49724 non-null  float64\n",
      " 35  LP_NonPrincipalRecoverypayments     49724 non-null  float64\n",
      " 36  Investors                           49724 non-null  int64  \n",
      " 37  year                                49724 non-null  int64  \n",
      " 38  month                               49724 non-null  int64  \n",
      " 39  WageGroup                           49724 non-null  object \n",
      " 40  YearsWithCredit                     49724 non-null  int64  \n",
      "dtypes: bool(1), float64(26), int32(1), int64(11), object(2)\n",
      "memory usage: 15.0+ MB\n"
     ]
    }
   ],
   "source": [
    "loan_df.info()"
   ]
  },
  {
   "cell_type": "code",
   "execution_count": 12,
   "id": "625dd1d3",
   "metadata": {},
   "outputs": [
    {
     "name": "stdout",
     "output_type": "stream",
     "text": [
      "<class 'pandas.core.frame.DataFrame'>\n",
      "RangeIndex: 49724 entries, 0 to 49723\n",
      "Data columns (total 43 columns):\n",
      " #   Column                              Non-Null Count  Dtype  \n",
      "---  ------                              --------------  -----  \n",
      " 0   CreditGrade                         49724 non-null  object \n",
      " 1   Term                                49724 non-null  int64  \n",
      " 2   LoanStatus                          49724 non-null  int64  \n",
      " 3   BorrowerAPR                         49724 non-null  float64\n",
      " 4   BorrowerRate                        49724 non-null  float64\n",
      " 5   LenderYield                         49724 non-null  float64\n",
      " 6   ProsperScore                        49724 non-null  int64  \n",
      " 7   EmploymentStatus                    49724 non-null  int64  \n",
      " 8   IsBorrowerHomeowner                 49724 non-null  int32  \n",
      " 9   CreditScore                         49724 non-null  float64\n",
      " 10  CurrentCreditLines                  49724 non-null  float64\n",
      " 11  OpenCreditLines                     49724 non-null  float64\n",
      " 12  TotalCreditLinespast7years          49724 non-null  float64\n",
      " 13  OpenRevolvingAccounts               49724 non-null  int64  \n",
      " 14  OpenRevolvingMonthlyPayment         49724 non-null  float64\n",
      " 15  InquiriesLast6Months                49724 non-null  float64\n",
      " 16  TotalInquiries                      49724 non-null  float64\n",
      " 17  RevolvingCreditBalance              49724 non-null  float64\n",
      " 18  BankcardUtilization                 49724 non-null  float64\n",
      " 19  AvailableBankcardCredit             49724 non-null  float64\n",
      " 20  TotalTrades                         49724 non-null  float64\n",
      " 21  TradesNeverDelinquent (percentage)  49724 non-null  float64\n",
      " 22  DebtToIncomeRatio                   49724 non-null  float64\n",
      " 23  IncomeVerifiable                    49724 non-null  bool   \n",
      " 24  StatedMonthlyIncome                 49724 non-null  float64\n",
      " 25  LoanMonthsSinceOrigination          49724 non-null  int64  \n",
      " 26  LoanOriginalAmount                  49724 non-null  int64  \n",
      " 27  MonthlyLoanPayment                  49724 non-null  float64\n",
      " 28  LP_CustomerPayments                 49724 non-null  float64\n",
      " 29  LP_CustomerPrincipalPayments        49724 non-null  float64\n",
      " 30  LP_InterestandFees                  49724 non-null  float64\n",
      " 31  LP_ServiceFees                      49724 non-null  float64\n",
      " 32  LP_CollectionFees                   49724 non-null  float64\n",
      " 33  LP_GrossPrincipalLoss               49724 non-null  float64\n",
      " 34  LP_NetPrincipalLoss                 49724 non-null  float64\n",
      " 35  LP_NonPrincipalRecoverypayments     49724 non-null  float64\n",
      " 36  Investors                           49724 non-null  int64  \n",
      " 37  year                                49724 non-null  int64  \n",
      " 38  month                               49724 non-null  int64  \n",
      " 39  YearsWithCredit                     49724 non-null  int64  \n",
      " 40  HighWage                            49724 non-null  uint8  \n",
      " 41  LowWage                             49724 non-null  uint8  \n",
      " 42  MediumWage                          49724 non-null  uint8  \n",
      "dtypes: bool(1), float64(26), int32(1), int64(11), object(1), uint8(3)\n",
      "memory usage: 14.8+ MB\n"
     ]
    }
   ],
   "source": [
    "state = pd.get_dummies(loan_df[\"WageGroup\"])\n",
    "\n",
    "loan_df = loan_df.join(state, rsuffix=\"_group\")\n",
    "loan_df.drop(\"WageGroup\", axis=1, inplace=True)\n",
    "\n",
    "loan_df.info()"
   ]
  },
  {
   "cell_type": "code",
   "execution_count": 13,
   "id": "d2ea6584",
   "metadata": {},
   "outputs": [],
   "source": [
    "loan_df.reset_index(drop=True, inplace=True)\n",
    "loan_df[loan_df.select_dtypes(include='uint8').columns] = loan_df[loan_df.select_dtypes(include='uint8').columns].astype('int64')"
   ]
  },
  {
   "cell_type": "code",
   "execution_count": 14,
   "id": "5af2834e",
   "metadata": {},
   "outputs": [
    {
     "name": "stdout",
     "output_type": "stream",
     "text": [
      "<class 'pandas.core.frame.DataFrame'>\n",
      "RangeIndex: 49724 entries, 0 to 49723\n",
      "Data columns (total 43 columns):\n",
      " #   Column                              Non-Null Count  Dtype  \n",
      "---  ------                              --------------  -----  \n",
      " 0   CreditGrade                         49724 non-null  object \n",
      " 1   Term                                49724 non-null  int64  \n",
      " 2   LoanStatus                          49724 non-null  int64  \n",
      " 3   BorrowerAPR                         49724 non-null  float64\n",
      " 4   BorrowerRate                        49724 non-null  float64\n",
      " 5   LenderYield                         49724 non-null  float64\n",
      " 6   ProsperScore                        49724 non-null  int64  \n",
      " 7   EmploymentStatus                    49724 non-null  int64  \n",
      " 8   IsBorrowerHomeowner                 49724 non-null  int32  \n",
      " 9   CreditScore                         49724 non-null  float64\n",
      " 10  CurrentCreditLines                  49724 non-null  float64\n",
      " 11  OpenCreditLines                     49724 non-null  float64\n",
      " 12  TotalCreditLinespast7years          49724 non-null  float64\n",
      " 13  OpenRevolvingAccounts               49724 non-null  int64  \n",
      " 14  OpenRevolvingMonthlyPayment         49724 non-null  float64\n",
      " 15  InquiriesLast6Months                49724 non-null  float64\n",
      " 16  TotalInquiries                      49724 non-null  float64\n",
      " 17  RevolvingCreditBalance              49724 non-null  float64\n",
      " 18  BankcardUtilization                 49724 non-null  float64\n",
      " 19  AvailableBankcardCredit             49724 non-null  float64\n",
      " 20  TotalTrades                         49724 non-null  float64\n",
      " 21  TradesNeverDelinquent (percentage)  49724 non-null  float64\n",
      " 22  DebtToIncomeRatio                   49724 non-null  float64\n",
      " 23  IncomeVerifiable                    49724 non-null  bool   \n",
      " 24  StatedMonthlyIncome                 49724 non-null  float64\n",
      " 25  LoanMonthsSinceOrigination          49724 non-null  int64  \n",
      " 26  LoanOriginalAmount                  49724 non-null  int64  \n",
      " 27  MonthlyLoanPayment                  49724 non-null  float64\n",
      " 28  LP_CustomerPayments                 49724 non-null  float64\n",
      " 29  LP_CustomerPrincipalPayments        49724 non-null  float64\n",
      " 30  LP_InterestandFees                  49724 non-null  float64\n",
      " 31  LP_ServiceFees                      49724 non-null  float64\n",
      " 32  LP_CollectionFees                   49724 non-null  float64\n",
      " 33  LP_GrossPrincipalLoss               49724 non-null  float64\n",
      " 34  LP_NetPrincipalLoss                 49724 non-null  float64\n",
      " 35  LP_NonPrincipalRecoverypayments     49724 non-null  float64\n",
      " 36  Investors                           49724 non-null  int64  \n",
      " 37  year                                49724 non-null  int64  \n",
      " 38  month                               49724 non-null  int64  \n",
      " 39  YearsWithCredit                     49724 non-null  int64  \n",
      " 40  HighWage                            49724 non-null  int64  \n",
      " 41  LowWage                             49724 non-null  int64  \n",
      " 42  MediumWage                          49724 non-null  int64  \n",
      "dtypes: bool(1), float64(26), int32(1), int64(14), object(1)\n",
      "memory usage: 15.8+ MB\n"
     ]
    }
   ],
   "source": [
    "loan_df.info()"
   ]
  },
  {
   "cell_type": "code",
   "execution_count": 15,
   "id": "1ef3df67",
   "metadata": {},
   "outputs": [],
   "source": [
    "from sklearn import preprocessing\n",
    "  \n",
    "# label_encoder object knows how to understand word labels.\n",
    "label_encoder = preprocessing.LabelEncoder()\n",
    "  \n",
    "# Encode labels in column 'species'.\n",
    "loan_df['CreditGrade']= label_encoder.fit_transform(loan_df['CreditGrade'])"
   ]
  },
  {
   "cell_type": "code",
   "execution_count": 16,
   "id": "76bcecd2",
   "metadata": {},
   "outputs": [
    {
     "name": "stdout",
     "output_type": "stream",
     "text": [
      "<class 'pandas.core.frame.DataFrame'>\n",
      "RangeIndex: 49724 entries, 0 to 49723\n",
      "Data columns (total 43 columns):\n",
      " #   Column                              Non-Null Count  Dtype  \n",
      "---  ------                              --------------  -----  \n",
      " 0   CreditGrade                         49724 non-null  int32  \n",
      " 1   Term                                49724 non-null  int64  \n",
      " 2   LoanStatus                          49724 non-null  int64  \n",
      " 3   BorrowerAPR                         49724 non-null  float64\n",
      " 4   BorrowerRate                        49724 non-null  float64\n",
      " 5   LenderYield                         49724 non-null  float64\n",
      " 6   ProsperScore                        49724 non-null  int64  \n",
      " 7   EmploymentStatus                    49724 non-null  int64  \n",
      " 8   IsBorrowerHomeowner                 49724 non-null  int32  \n",
      " 9   CreditScore                         49724 non-null  float64\n",
      " 10  CurrentCreditLines                  49724 non-null  float64\n",
      " 11  OpenCreditLines                     49724 non-null  float64\n",
      " 12  TotalCreditLinespast7years          49724 non-null  float64\n",
      " 13  OpenRevolvingAccounts               49724 non-null  int64  \n",
      " 14  OpenRevolvingMonthlyPayment         49724 non-null  float64\n",
      " 15  InquiriesLast6Months                49724 non-null  float64\n",
      " 16  TotalInquiries                      49724 non-null  float64\n",
      " 17  RevolvingCreditBalance              49724 non-null  float64\n",
      " 18  BankcardUtilization                 49724 non-null  float64\n",
      " 19  AvailableBankcardCredit             49724 non-null  float64\n",
      " 20  TotalTrades                         49724 non-null  float64\n",
      " 21  TradesNeverDelinquent (percentage)  49724 non-null  float64\n",
      " 22  DebtToIncomeRatio                   49724 non-null  float64\n",
      " 23  IncomeVerifiable                    49724 non-null  bool   \n",
      " 24  StatedMonthlyIncome                 49724 non-null  float64\n",
      " 25  LoanMonthsSinceOrigination          49724 non-null  int64  \n",
      " 26  LoanOriginalAmount                  49724 non-null  int64  \n",
      " 27  MonthlyLoanPayment                  49724 non-null  float64\n",
      " 28  LP_CustomerPayments                 49724 non-null  float64\n",
      " 29  LP_CustomerPrincipalPayments        49724 non-null  float64\n",
      " 30  LP_InterestandFees                  49724 non-null  float64\n",
      " 31  LP_ServiceFees                      49724 non-null  float64\n",
      " 32  LP_CollectionFees                   49724 non-null  float64\n",
      " 33  LP_GrossPrincipalLoss               49724 non-null  float64\n",
      " 34  LP_NetPrincipalLoss                 49724 non-null  float64\n",
      " 35  LP_NonPrincipalRecoverypayments     49724 non-null  float64\n",
      " 36  Investors                           49724 non-null  int64  \n",
      " 37  year                                49724 non-null  int64  \n",
      " 38  month                               49724 non-null  int64  \n",
      " 39  YearsWithCredit                     49724 non-null  int64  \n",
      " 40  HighWage                            49724 non-null  int64  \n",
      " 41  LowWage                             49724 non-null  int64  \n",
      " 42  MediumWage                          49724 non-null  int64  \n",
      "dtypes: bool(1), float64(26), int32(2), int64(14)\n",
      "memory usage: 15.6 MB\n"
     ]
    }
   ],
   "source": [
    "loan_df.info()"
   ]
  },
  {
   "cell_type": "code",
   "execution_count": 83,
   "id": "4dff52cb",
   "metadata": {},
   "outputs": [
    {
     "data": {
      "text/plain": [
       "660.0    6095\n",
       "680.0    6095\n",
       "640.0    5938\n",
       "700.0    5424\n",
       "720.0    4918\n",
       "740.0    3954\n",
       "760.0    3153\n",
       "620.0    2974\n",
       "600.0    2602\n",
       "780.0    2198\n",
       "800.0    1332\n",
       "520.0    1149\n",
       "560.0     997\n",
       "580.0     844\n",
       "820.0     800\n",
       "540.0     738\n",
       "840.0     348\n",
       "860.0     146\n",
       "880.0      19\n",
       "Name: CreditScore, dtype: int64"
      ]
     },
     "execution_count": 83,
     "metadata": {},
     "output_type": "execute_result"
    }
   ],
   "source": [
    "loan_df[\"CreditScore\"].value_counts()"
   ]
  },
  {
   "cell_type": "code",
   "execution_count": 17,
   "id": "477bb362",
   "metadata": {},
   "outputs": [
    {
     "data": {
      "text/plain": [
       "1    33530\n",
       "0    16194\n",
       "Name: LoanStatus, dtype: int64"
      ]
     },
     "execution_count": 17,
     "metadata": {},
     "output_type": "execute_result"
    }
   ],
   "source": [
    "loan_df[\"LoanStatus\"].value_counts()"
   ]
  },
  {
   "cell_type": "markdown",
   "id": "5c45e1c8",
   "metadata": {},
   "source": [
    "#### splitting the data into X and y"
   ]
  },
  {
   "cell_type": "code",
   "execution_count": 18,
   "id": "9171ce84",
   "metadata": {},
   "outputs": [],
   "source": [
    "X=loan_df.drop(\"LoanStatus\",axis=1)\n",
    "y=loan_df[\"LoanStatus\"]"
   ]
  },
  {
   "cell_type": "code",
   "execution_count": 19,
   "id": "c5b1824d",
   "metadata": {},
   "outputs": [
    {
     "data": {
      "text/html": [
       "<div>\n",
       "<style scoped>\n",
       "    .dataframe tbody tr th:only-of-type {\n",
       "        vertical-align: middle;\n",
       "    }\n",
       "\n",
       "    .dataframe tbody tr th {\n",
       "        vertical-align: top;\n",
       "    }\n",
       "\n",
       "    .dataframe thead th {\n",
       "        text-align: right;\n",
       "    }\n",
       "</style>\n",
       "<table border=\"1\" class=\"dataframe\">\n",
       "  <thead>\n",
       "    <tr style=\"text-align: right;\">\n",
       "      <th></th>\n",
       "      <th>CreditGrade</th>\n",
       "      <th>Term</th>\n",
       "      <th>BorrowerAPR</th>\n",
       "      <th>BorrowerRate</th>\n",
       "      <th>LenderYield</th>\n",
       "      <th>ProsperScore</th>\n",
       "      <th>EmploymentStatus</th>\n",
       "      <th>IsBorrowerHomeowner</th>\n",
       "      <th>CreditScore</th>\n",
       "      <th>CurrentCreditLines</th>\n",
       "      <th>...</th>\n",
       "      <th>LP_GrossPrincipalLoss</th>\n",
       "      <th>LP_NetPrincipalLoss</th>\n",
       "      <th>LP_NonPrincipalRecoverypayments</th>\n",
       "      <th>Investors</th>\n",
       "      <th>year</th>\n",
       "      <th>month</th>\n",
       "      <th>YearsWithCredit</th>\n",
       "      <th>HighWage</th>\n",
       "      <th>LowWage</th>\n",
       "      <th>MediumWage</th>\n",
       "    </tr>\n",
       "  </thead>\n",
       "  <tbody>\n",
       "    <tr>\n",
       "      <th>0</th>\n",
       "      <td>3</td>\n",
       "      <td>36</td>\n",
       "      <td>0.16516</td>\n",
       "      <td>0.1580</td>\n",
       "      <td>0.1380</td>\n",
       "      <td>5</td>\n",
       "      <td>1</td>\n",
       "      <td>1</td>\n",
       "      <td>640.0</td>\n",
       "      <td>5.0</td>\n",
       "      <td>...</td>\n",
       "      <td>0.00</td>\n",
       "      <td>0.00</td>\n",
       "      <td>0.0</td>\n",
       "      <td>258</td>\n",
       "      <td>2007</td>\n",
       "      <td>8</td>\n",
       "      <td>13</td>\n",
       "      <td>0</td>\n",
       "      <td>0</td>\n",
       "      <td>1</td>\n",
       "    </tr>\n",
       "    <tr>\n",
       "      <th>1</th>\n",
       "      <td>3</td>\n",
       "      <td>36</td>\n",
       "      <td>0.15033</td>\n",
       "      <td>0.1325</td>\n",
       "      <td>0.1225</td>\n",
       "      <td>5</td>\n",
       "      <td>1</td>\n",
       "      <td>0</td>\n",
       "      <td>640.0</td>\n",
       "      <td>2.0</td>\n",
       "      <td>...</td>\n",
       "      <td>0.00</td>\n",
       "      <td>0.00</td>\n",
       "      <td>0.0</td>\n",
       "      <td>53</td>\n",
       "      <td>2007</td>\n",
       "      <td>10</td>\n",
       "      <td>14</td>\n",
       "      <td>0</td>\n",
       "      <td>1</td>\n",
       "      <td>0</td>\n",
       "    </tr>\n",
       "    <tr>\n",
       "      <th>2</th>\n",
       "      <td>7</td>\n",
       "      <td>36</td>\n",
       "      <td>0.17969</td>\n",
       "      <td>0.1435</td>\n",
       "      <td>0.1335</td>\n",
       "      <td>4</td>\n",
       "      <td>1</td>\n",
       "      <td>0</td>\n",
       "      <td>680.0</td>\n",
       "      <td>9.0</td>\n",
       "      <td>...</td>\n",
       "      <td>0.00</td>\n",
       "      <td>0.00</td>\n",
       "      <td>0.0</td>\n",
       "      <td>1</td>\n",
       "      <td>2013</td>\n",
       "      <td>12</td>\n",
       "      <td>18</td>\n",
       "      <td>0</td>\n",
       "      <td>1</td>\n",
       "      <td>0</td>\n",
       "    </tr>\n",
       "    <tr>\n",
       "      <th>3</th>\n",
       "      <td>7</td>\n",
       "      <td>36</td>\n",
       "      <td>0.35797</td>\n",
       "      <td>0.3177</td>\n",
       "      <td>0.3077</td>\n",
       "      <td>5</td>\n",
       "      <td>0</td>\n",
       "      <td>1</td>\n",
       "      <td>700.0</td>\n",
       "      <td>10.0</td>\n",
       "      <td>...</td>\n",
       "      <td>3790.25</td>\n",
       "      <td>3790.25</td>\n",
       "      <td>0.0</td>\n",
       "      <td>10</td>\n",
       "      <td>2012</td>\n",
       "      <td>4</td>\n",
       "      <td>15</td>\n",
       "      <td>0</td>\n",
       "      <td>0</td>\n",
       "      <td>1</td>\n",
       "    </tr>\n",
       "    <tr>\n",
       "      <th>4</th>\n",
       "      <td>4</td>\n",
       "      <td>36</td>\n",
       "      <td>0.21488</td>\n",
       "      <td>0.2075</td>\n",
       "      <td>0.1975</td>\n",
       "      <td>5</td>\n",
       "      <td>1</td>\n",
       "      <td>0</td>\n",
       "      <td>620.0</td>\n",
       "      <td>4.0</td>\n",
       "      <td>...</td>\n",
       "      <td>0.00</td>\n",
       "      <td>0.00</td>\n",
       "      <td>0.0</td>\n",
       "      <td>53</td>\n",
       "      <td>2007</td>\n",
       "      <td>11</td>\n",
       "      <td>11</td>\n",
       "      <td>0</td>\n",
       "      <td>0</td>\n",
       "      <td>1</td>\n",
       "    </tr>\n",
       "  </tbody>\n",
       "</table>\n",
       "<p>5 rows × 42 columns</p>\n",
       "</div>"
      ],
      "text/plain": [
       "   CreditGrade  Term  BorrowerAPR  BorrowerRate  LenderYield  ProsperScore  \\\n",
       "0            3    36      0.16516        0.1580       0.1380             5   \n",
       "1            3    36      0.15033        0.1325       0.1225             5   \n",
       "2            7    36      0.17969        0.1435       0.1335             4   \n",
       "3            7    36      0.35797        0.3177       0.3077             5   \n",
       "4            4    36      0.21488        0.2075       0.1975             5   \n",
       "\n",
       "   EmploymentStatus  IsBorrowerHomeowner  CreditScore  CurrentCreditLines  \\\n",
       "0                 1                    1        640.0                 5.0   \n",
       "1                 1                    0        640.0                 2.0   \n",
       "2                 1                    0        680.0                 9.0   \n",
       "3                 0                    1        700.0                10.0   \n",
       "4                 1                    0        620.0                 4.0   \n",
       "\n",
       "   ...  LP_GrossPrincipalLoss  LP_NetPrincipalLoss  \\\n",
       "0  ...                   0.00                 0.00   \n",
       "1  ...                   0.00                 0.00   \n",
       "2  ...                   0.00                 0.00   \n",
       "3  ...                3790.25              3790.25   \n",
       "4  ...                   0.00                 0.00   \n",
       "\n",
       "   LP_NonPrincipalRecoverypayments  Investors  year  month  YearsWithCredit  \\\n",
       "0                              0.0        258  2007      8               13   \n",
       "1                              0.0         53  2007     10               14   \n",
       "2                              0.0          1  2013     12               18   \n",
       "3                              0.0         10  2012      4               15   \n",
       "4                              0.0         53  2007     11               11   \n",
       "\n",
       "   HighWage  LowWage  MediumWage  \n",
       "0         0        0           1  \n",
       "1         0        1           0  \n",
       "2         0        1           0  \n",
       "3         0        0           1  \n",
       "4         0        0           1  \n",
       "\n",
       "[5 rows x 42 columns]"
      ]
     },
     "execution_count": 19,
     "metadata": {},
     "output_type": "execute_result"
    }
   ],
   "source": [
    "X.head()"
   ]
  },
  {
   "cell_type": "code",
   "execution_count": 20,
   "id": "fa26f445",
   "metadata": {},
   "outputs": [
    {
     "data": {
      "text/plain": [
       "0    1\n",
       "1    1\n",
       "2    0\n",
       "3    0\n",
       "4    1\n",
       "Name: LoanStatus, dtype: int64"
      ]
     },
     "execution_count": 20,
     "metadata": {},
     "output_type": "execute_result"
    }
   ],
   "source": [
    "y.head()"
   ]
  },
  {
   "cell_type": "markdown",
   "id": "33dd7399",
   "metadata": {},
   "source": [
    "### Now we are going to preform the Scalling part in FE (Standarisation & Normalization)\n",
    "### Feature Selection by using mutual_info_classi"
   ]
  },
  {
   "cell_type": "code",
   "execution_count": 21,
   "id": "1e7549b0",
   "metadata": {},
   "outputs": [
    {
     "data": {
      "text/plain": [
       "array([1.23821900e-02, 1.52047030e-02, 5.55241691e-02, 5.33709703e-02,\n",
       "       5.35651620e-02, 2.11176020e-02, 4.61011659e-03, 6.66552175e-03,\n",
       "       1.89971839e-02, 3.24233060e-03, 5.86482294e-03, 0.00000000e+00,\n",
       "       4.02569245e-03, 3.73426293e-03, 1.25511588e-02, 1.34242985e-02,\n",
       "       0.00000000e+00, 1.07002036e-02, 1.07195518e-02, 1.37473478e-04,\n",
       "       9.95533905e-03, 1.08947398e-02, 7.06261335e-03, 9.99013104e-03,\n",
       "       1.54138872e-02, 4.44035087e-03, 4.92220720e-02, 1.91143362e-01,\n",
       "       5.26491743e-01, 2.20793686e-02, 2.52244644e-02, 7.67005662e-02,\n",
       "       4.54376867e-01, 4.45669653e-01, 6.46020640e-02, 5.87712328e-03,\n",
       "       1.52327550e-02, 4.18548232e-03, 1.43110960e-04, 3.47966182e-03,\n",
       "       2.47828733e-03, 6.56384647e-03])"
      ]
     },
     "execution_count": 21,
     "metadata": {},
     "output_type": "execute_result"
    }
   ],
   "source": [
    "from sklearn.feature_selection import mutual_info_classif\n",
    "# determine the mutual information\n",
    "mutual_info = mutual_info_classif(X, y)\n",
    "mutual_info"
   ]
  },
  {
   "cell_type": "code",
   "execution_count": 22,
   "id": "fac8d2a9",
   "metadata": {},
   "outputs": [
    {
     "data": {
      "text/plain": [
       "LP_CustomerPrincipalPayments          0.526492\n",
       "LP_GrossPrincipalLoss                 0.454377\n",
       "LP_NetPrincipalLoss                   0.445670\n",
       "LP_CustomerPayments                   0.191143\n",
       "LP_CollectionFees                     0.076701\n",
       "LP_NonPrincipalRecoverypayments       0.064602\n",
       "BorrowerAPR                           0.055524\n",
       "LenderYield                           0.053565\n",
       "BorrowerRate                          0.053371\n",
       "MonthlyLoanPayment                    0.049222\n",
       "LP_ServiceFees                        0.025224\n",
       "LP_InterestandFees                    0.022079\n",
       "ProsperScore                          0.021118\n",
       "CreditScore                           0.018997\n",
       "LoanMonthsSinceOrigination            0.015414\n",
       "year                                  0.015233\n",
       "Term                                  0.015205\n",
       "TotalInquiries                        0.013424\n",
       "InquiriesLast6Months                  0.012551\n",
       "CreditGrade                           0.012382\n",
       "DebtToIncomeRatio                     0.010895\n",
       "AvailableBankcardCredit               0.010720\n",
       "BankcardUtilization                   0.010700\n",
       "StatedMonthlyIncome                   0.009990\n",
       "TradesNeverDelinquent (percentage)    0.009955\n",
       "IncomeVerifiable                      0.007063\n",
       "IsBorrowerHomeowner                   0.006666\n",
       "MediumWage                            0.006564\n",
       "Investors                             0.005877\n",
       "OpenCreditLines                       0.005865\n",
       "EmploymentStatus                      0.004610\n",
       "LoanOriginalAmount                    0.004440\n",
       "month                                 0.004185\n",
       "OpenRevolvingAccounts                 0.004026\n",
       "OpenRevolvingMonthlyPayment           0.003734\n",
       "HighWage                              0.003480\n",
       "CurrentCreditLines                    0.003242\n",
       "LowWage                               0.002478\n",
       "YearsWithCredit                       0.000143\n",
       "TotalTrades                           0.000137\n",
       "RevolvingCreditBalance                0.000000\n",
       "TotalCreditLinespast7years            0.000000\n",
       "dtype: float64"
      ]
     },
     "execution_count": 22,
     "metadata": {},
     "output_type": "execute_result"
    }
   ],
   "source": [
    "mutual_info = pd.Series(mutual_info)\n",
    "mutual_info.index = X.columns\n",
    "mutual_info.sort_values(ascending=False)"
   ]
  },
  {
   "cell_type": "code",
   "execution_count": 23,
   "id": "2d50eaa7",
   "metadata": {},
   "outputs": [
    {
     "data": {
      "text/plain": [
       "<Axes: >"
      ]
     },
     "execution_count": 23,
     "metadata": {},
     "output_type": "execute_result"
    },
    {
     "data": {
      "image/png": "[encoded data removed]",
      "text/plain": [
       "<Figure size 2000x1000 with 1 Axes>"
      ]
     },
     "metadata": {},
     "output_type": "display_data"
    }
   ],
   "source": [
    "#let's plot the ordered mutual_info values per feature\n",
    "mutual_info.sort_values(ascending=False).plot.bar(figsize=(20, 10))"
   ]
  },
  {
   "cell_type": "code",
   "execution_count": 87,
   "id": "d536ecfc",
   "metadata": {},
   "outputs": [
    {
     "data": {
      "text/plain": [
       "<function sklearn.feature_selection._mutual_info.mutual_info_classif(X, y, *, discrete_features='auto', n_neighbors=3, copy=True, random_state=None)>"
      ]
     },
     "execution_count": 87,
     "metadata": {},
     "output_type": "execute_result"
    }
   ],
   "source": [
    "mutual_info_classif"
   ]
  },
  {
   "cell_type": "markdown",
   "id": "bcc4918f",
   "metadata": {},
   "source": [
    "### 15 best Feature selection using by mutual_info_classif"
   ]
  },
  {
   "cell_type": "code",
   "execution_count": 24,
   "id": "d22c2633",
   "metadata": {},
   "outputs": [
    {
     "data": {
      "text/plain": [
       "Index(['CreditGrade', 'BorrowerAPR', 'BorrowerRate', 'LenderYield',\n",
       "       'ProsperScore', 'CreditScore', 'MonthlyLoanPayment',\n",
       "       'LP_CustomerPayments', 'LP_CustomerPrincipalPayments',\n",
       "       'LP_InterestandFees', 'LP_ServiceFees', 'LP_CollectionFees',\n",
       "       'LP_GrossPrincipalLoss', 'LP_NetPrincipalLoss',\n",
       "       'LP_NonPrincipalRecoverypayments'],\n",
       "      dtype='object')"
      ]
     },
     "execution_count": 24,
     "metadata": {},
     "output_type": "execute_result"
    }
   ],
   "source": [
    "from sklearn.feature_selection import SelectKBest\n",
    "\n",
    "#Now we Will select the  top 15 important features\n",
    "\n",
    "sel_five_cols = SelectKBest(mutual_info_classif, k=15)\n",
    "sel_five_cols.fit(X, y)\n",
    "selected_data=X.columns[sel_five_cols.get_support()]\n",
    "selected_data"
   ]
  },
  {
   "cell_type": "code",
   "execution_count": 25,
   "id": "5654dfe7",
   "metadata": {},
   "outputs": [],
   "source": [
    "X=X.loc[:,[ 'CreditGrade', 'BorrowerAPR', 'BorrowerRate', 'LenderYield',\n",
    "       'ProsperScore', 'CreditScore', 'MonthlyLoanPayment',\n",
    "       'LP_CustomerPayments', 'LP_CustomerPrincipalPayments',\n",
    "       'LP_InterestandFees', 'LP_ServiceFees', 'LP_CollectionFees',\n",
    "       'LP_GrossPrincipalLoss', 'LP_NetPrincipalLoss',\n",
    "       'LP_NonPrincipalRecoverypayments']]"
   ]
  },
  {
   "cell_type": "code",
   "execution_count": 84,
   "id": "cf646362",
   "metadata": {},
   "outputs": [
    {
     "data": {
      "text/html": [
       "<div>\n",
       "<style scoped>\n",
       "    .dataframe tbody tr th:only-of-type {\n",
       "        vertical-align: middle;\n",
       "    }\n",
       "\n",
       "    .dataframe tbody tr th {\n",
       "        vertical-align: top;\n",
       "    }\n",
       "\n",
       "    .dataframe thead th {\n",
       "        text-align: right;\n",
       "    }\n",
       "</style>\n",
       "<table border=\"1\" class=\"dataframe\">\n",
       "  <thead>\n",
       "    <tr style=\"text-align: right;\">\n",
       "      <th></th>\n",
       "      <th>CreditGrade</th>\n",
       "      <th>BorrowerAPR</th>\n",
       "      <th>BorrowerRate</th>\n",
       "      <th>LenderYield</th>\n",
       "      <th>ProsperScore</th>\n",
       "      <th>CreditScore</th>\n",
       "      <th>MonthlyLoanPayment</th>\n",
       "      <th>LP_CustomerPayments</th>\n",
       "      <th>LP_CustomerPrincipalPayments</th>\n",
       "      <th>LP_InterestandFees</th>\n",
       "      <th>LP_ServiceFees</th>\n",
       "      <th>LP_CollectionFees</th>\n",
       "      <th>LP_GrossPrincipalLoss</th>\n",
       "      <th>LP_NetPrincipalLoss</th>\n",
       "      <th>LP_NonPrincipalRecoverypayments</th>\n",
       "    </tr>\n",
       "  </thead>\n",
       "  <tbody>\n",
       "    <tr>\n",
       "      <th>0</th>\n",
       "      <td>0.428571</td>\n",
       "      <td>0.380025</td>\n",
       "      <td>0.438889</td>\n",
       "      <td>0.422857</td>\n",
       "      <td>0.4</td>\n",
       "      <td>0.333333</td>\n",
       "      <td>0.146759</td>\n",
       "      <td>0.280029</td>\n",
       "      <td>0.269286</td>\n",
       "      <td>0.126349</td>\n",
       "      <td>0.762903</td>\n",
       "      <td>1.0</td>\n",
       "      <td>0.003754</td>\n",
       "      <td>0.036778</td>\n",
       "      <td>0.0</td>\n",
       "    </tr>\n",
       "    <tr>\n",
       "      <th>1</th>\n",
       "      <td>0.428571</td>\n",
       "      <td>0.344497</td>\n",
       "      <td>0.368056</td>\n",
       "      <td>0.378571</td>\n",
       "      <td>0.4</td>\n",
       "      <td>0.333333</td>\n",
       "      <td>0.015017</td>\n",
       "      <td>0.024911</td>\n",
       "      <td>0.028571</td>\n",
       "      <td>0.000896</td>\n",
       "      <td>0.952736</td>\n",
       "      <td>1.0</td>\n",
       "      <td>0.003754</td>\n",
       "      <td>0.036778</td>\n",
       "      <td>0.0</td>\n",
       "    </tr>\n",
       "    <tr>\n",
       "      <th>2</th>\n",
       "      <td>1.000000</td>\n",
       "      <td>0.414834</td>\n",
       "      <td>0.398611</td>\n",
       "      <td>0.410000</td>\n",
       "      <td>0.3</td>\n",
       "      <td>0.444444</td>\n",
       "      <td>0.061021</td>\n",
       "      <td>0.003394</td>\n",
       "      <td>0.002533</td>\n",
       "      <td>0.003171</td>\n",
       "      <td>0.949120</td>\n",
       "      <td>1.0</td>\n",
       "      <td>0.003754</td>\n",
       "      <td>0.036778</td>\n",
       "      <td>0.0</td>\n",
       "    </tr>\n",
       "    <tr>\n",
       "      <th>3</th>\n",
       "      <td>1.000000</td>\n",
       "      <td>0.841934</td>\n",
       "      <td>0.882500</td>\n",
       "      <td>0.907714</td>\n",
       "      <td>0.4</td>\n",
       "      <td>0.500000</td>\n",
       "      <td>0.077153</td>\n",
       "      <td>0.012860</td>\n",
       "      <td>0.005993</td>\n",
       "      <td>0.020086</td>\n",
       "      <td>0.939922</td>\n",
       "      <td>1.0</td>\n",
       "      <td>0.154795</td>\n",
       "      <td>0.182812</td>\n",
       "      <td>0.0</td>\n",
       "    </tr>\n",
       "    <tr>\n",
       "      <th>4</th>\n",
       "      <td>0.571429</td>\n",
       "      <td>0.499138</td>\n",
       "      <td>0.576389</td>\n",
       "      <td>0.592857</td>\n",
       "      <td>0.4</td>\n",
       "      <td>0.277778</td>\n",
       "      <td>0.050029</td>\n",
       "      <td>0.099826</td>\n",
       "      <td>0.085714</td>\n",
       "      <td>0.068082</td>\n",
       "      <td>0.880648</td>\n",
       "      <td>1.0</td>\n",
       "      <td>0.003754</td>\n",
       "      <td>0.036778</td>\n",
       "      <td>0.0</td>\n",
       "    </tr>\n",
       "  </tbody>\n",
       "</table>\n",
       "</div>"
      ],
      "text/plain": [
       "   CreditGrade  BorrowerAPR  BorrowerRate  LenderYield  ProsperScore  \\\n",
       "0     0.428571     0.380025      0.438889     0.422857           0.4   \n",
       "1     0.428571     0.344497      0.368056     0.378571           0.4   \n",
       "2     1.000000     0.414834      0.398611     0.410000           0.3   \n",
       "3     1.000000     0.841934      0.882500     0.907714           0.4   \n",
       "4     0.571429     0.499138      0.576389     0.592857           0.4   \n",
       "\n",
       "   CreditScore  MonthlyLoanPayment  LP_CustomerPayments  \\\n",
       "0     0.333333            0.146759             0.280029   \n",
       "1     0.333333            0.015017             0.024911   \n",
       "2     0.444444            0.061021             0.003394   \n",
       "3     0.500000            0.077153             0.012860   \n",
       "4     0.277778            0.050029             0.099826   \n",
       "\n",
       "   LP_CustomerPrincipalPayments  LP_InterestandFees  LP_ServiceFees  \\\n",
       "0                      0.269286            0.126349        0.762903   \n",
       "1                      0.028571            0.000896        0.952736   \n",
       "2                      0.002533            0.003171        0.949120   \n",
       "3                      0.005993            0.020086        0.939922   \n",
       "4                      0.085714            0.068082        0.880648   \n",
       "\n",
       "   LP_CollectionFees  LP_GrossPrincipalLoss  LP_NetPrincipalLoss  \\\n",
       "0                1.0               0.003754             0.036778   \n",
       "1                1.0               0.003754             0.036778   \n",
       "2                1.0               0.003754             0.036778   \n",
       "3                1.0               0.154795             0.182812   \n",
       "4                1.0               0.003754             0.036778   \n",
       "\n",
       "   LP_NonPrincipalRecoverypayments  \n",
       "0                              0.0  \n",
       "1                              0.0  \n",
       "2                              0.0  \n",
       "3                              0.0  \n",
       "4                              0.0  "
      ]
     },
     "execution_count": 84,
     "metadata": {},
     "output_type": "execute_result"
    }
   ],
   "source": [
    "X.head()"
   ]
  },
  {
   "cell_type": "markdown",
   "id": "dfdd9b70",
   "metadata": {},
   "source": [
    "### Handling imbalanced data\n",
    "\n",
    "To reduce overfitting and underfitting problem.\n",
    "\n",
    "Over Sampling minority class using Synthetic Minority Oversampling Technique (SMOTE)-In this method, synthetic samples are generated for the minority class and equal to the majority class"
   ]
  },
  {
   "cell_type": "code",
   "execution_count": 26,
   "id": "9511dad4",
   "metadata": {},
   "outputs": [
    {
     "data": {
      "text/plain": [
       "1    33530\n",
       "0    33530\n",
       "Name: LoanStatus, dtype: int64"
      ]
     },
     "execution_count": 26,
     "metadata": {},
     "output_type": "execute_result"
    }
   ],
   "source": [
    "from imblearn.over_sampling import SMOTE \n",
    "smot = SMOTE(sampling_strategy='minority') \n",
    "X, y = smot.fit_resample(X, y) \n",
    "y.value_counts()"
   ]
  },
  {
   "cell_type": "code",
   "execution_count": 27,
   "id": "7ca9ae75",
   "metadata": {},
   "outputs": [],
   "source": [
    "# Normalization of X\n",
    "X = (X - X.min()) / (X.max() - X.min())"
   ]
  },
  {
   "cell_type": "code",
   "execution_count": 28,
   "id": "85ff837e",
   "metadata": {},
   "outputs": [
    {
     "data": {
      "text/html": [
       "<div>\n",
       "<style scoped>\n",
       "    .dataframe tbody tr th:only-of-type {\n",
       "        vertical-align: middle;\n",
       "    }\n",
       "\n",
       "    .dataframe tbody tr th {\n",
       "        vertical-align: top;\n",
       "    }\n",
       "\n",
       "    .dataframe thead th {\n",
       "        text-align: right;\n",
       "    }\n",
       "</style>\n",
       "<table border=\"1\" class=\"dataframe\">\n",
       "  <thead>\n",
       "    <tr style=\"text-align: right;\">\n",
       "      <th></th>\n",
       "      <th>PC1</th>\n",
       "      <th>PC2</th>\n",
       "      <th>PC3</th>\n",
       "      <th>PC4</th>\n",
       "      <th>PC5</th>\n",
       "      <th>PC6</th>\n",
       "      <th>PC7</th>\n",
       "      <th>PC8</th>\n",
       "      <th>PC9</th>\n",
       "      <th>PC10</th>\n",
       "      <th>PC11</th>\n",
       "      <th>PC12</th>\n",
       "      <th>PC13</th>\n",
       "      <th>PC14</th>\n",
       "      <th>PC15</th>\n",
       "    </tr>\n",
       "  </thead>\n",
       "  <tbody>\n",
       "    <tr>\n",
       "      <th>0</th>\n",
       "      <td>0.406742</td>\n",
       "      <td>0.119378</td>\n",
       "      <td>-0.181609</td>\n",
       "      <td>0.154310</td>\n",
       "      <td>-0.137355</td>\n",
       "      <td>0.103375</td>\n",
       "      <td>0.016853</td>\n",
       "      <td>-0.005086</td>\n",
       "      <td>0.002569</td>\n",
       "      <td>-0.022888</td>\n",
       "      <td>-0.003582</td>\n",
       "      <td>-0.000656</td>\n",
       "      <td>-0.000380</td>\n",
       "      <td>0.016515</td>\n",
       "      <td>-1.952595e-15</td>\n",
       "    </tr>\n",
       "    <tr>\n",
       "      <th>1</th>\n",
       "      <td>0.403575</td>\n",
       "      <td>0.128769</td>\n",
       "      <td>-0.213605</td>\n",
       "      <td>-0.268732</td>\n",
       "      <td>-0.010492</td>\n",
       "      <td>0.059964</td>\n",
       "      <td>-0.005445</td>\n",
       "      <td>-0.002181</td>\n",
       "      <td>-0.007366</td>\n",
       "      <td>0.013446</td>\n",
       "      <td>0.006490</td>\n",
       "      <td>-0.000951</td>\n",
       "      <td>0.000445</td>\n",
       "      <td>-0.001046</td>\n",
       "      <td>2.785712e-16</td>\n",
       "    </tr>\n",
       "    <tr>\n",
       "      <th>2</th>\n",
       "      <td>0.052182</td>\n",
       "      <td>-0.262463</td>\n",
       "      <td>-0.084248</td>\n",
       "      <td>-0.260868</td>\n",
       "      <td>0.134540</td>\n",
       "      <td>0.265519</td>\n",
       "      <td>0.029709</td>\n",
       "      <td>0.031464</td>\n",
       "      <td>-0.007493</td>\n",
       "      <td>0.012296</td>\n",
       "      <td>0.001381</td>\n",
       "      <td>-0.002687</td>\n",
       "      <td>0.001279</td>\n",
       "      <td>-0.000894</td>\n",
       "      <td>1.005975e-15</td>\n",
       "    </tr>\n",
       "    <tr>\n",
       "      <th>3</th>\n",
       "      <td>-0.575426</td>\n",
       "      <td>0.029036</td>\n",
       "      <td>0.131128</td>\n",
       "      <td>-0.034831</td>\n",
       "      <td>0.141950</td>\n",
       "      <td>-0.108374</td>\n",
       "      <td>-0.030624</td>\n",
       "      <td>-0.000682</td>\n",
       "      <td>0.002603</td>\n",
       "      <td>-0.022924</td>\n",
       "      <td>0.004703</td>\n",
       "      <td>0.001146</td>\n",
       "      <td>-0.000836</td>\n",
       "      <td>0.000047</td>\n",
       "      <td>3.160192e-15</td>\n",
       "    </tr>\n",
       "    <tr>\n",
       "      <th>4</th>\n",
       "      <td>0.070664</td>\n",
       "      <td>0.142713</td>\n",
       "      <td>-0.192238</td>\n",
       "      <td>-0.076792</td>\n",
       "      <td>-0.081951</td>\n",
       "      <td>0.022044</td>\n",
       "      <td>0.019269</td>\n",
       "      <td>-0.011426</td>\n",
       "      <td>-0.005052</td>\n",
       "      <td>0.004199</td>\n",
       "      <td>-0.023321</td>\n",
       "      <td>-0.000327</td>\n",
       "      <td>0.000616</td>\n",
       "      <td>-0.002172</td>\n",
       "      <td>-1.559838e-15</td>\n",
       "    </tr>\n",
       "  </tbody>\n",
       "</table>\n",
       "</div>"
      ],
      "text/plain": [
       "        PC1       PC2       PC3       PC4       PC5       PC6       PC7  \\\n",
       "0  0.406742  0.119378 -0.181609  0.154310 -0.137355  0.103375  0.016853   \n",
       "1  0.403575  0.128769 -0.213605 -0.268732 -0.010492  0.059964 -0.005445   \n",
       "2  0.052182 -0.262463 -0.084248 -0.260868  0.134540  0.265519  0.029709   \n",
       "3 -0.575426  0.029036  0.131128 -0.034831  0.141950 -0.108374 -0.030624   \n",
       "4  0.070664  0.142713 -0.192238 -0.076792 -0.081951  0.022044  0.019269   \n",
       "\n",
       "        PC8       PC9      PC10      PC11      PC12      PC13      PC14  \\\n",
       "0 -0.005086  0.002569 -0.022888 -0.003582 -0.000656 -0.000380  0.016515   \n",
       "1 -0.002181 -0.007366  0.013446  0.006490 -0.000951  0.000445 -0.001046   \n",
       "2  0.031464 -0.007493  0.012296  0.001381 -0.002687  0.001279 -0.000894   \n",
       "3 -0.000682  0.002603 -0.022924  0.004703  0.001146 -0.000836  0.000047   \n",
       "4 -0.011426 -0.005052  0.004199 -0.023321 -0.000327  0.000616 -0.002172   \n",
       "\n",
       "           PC15  \n",
       "0 -1.952595e-15  \n",
       "1  2.785712e-16  \n",
       "2  1.005975e-15  \n",
       "3  3.160192e-15  \n",
       "4 -1.559838e-15  "
      ]
     },
     "execution_count": 28,
     "metadata": {},
     "output_type": "execute_result"
    }
   ],
   "source": [
    "from sklearn.decomposition import PCA\n",
    "\n",
    "# Create principal components\n",
    "pca = PCA()\n",
    "X_pca = pca.fit_transform(X)\n",
    "component_names = [f\"PC{i+1}\" for i in range(X_pca.shape[1])]\n",
    "X_pca = pd.DataFrame(X_pca, columns=component_names)\n",
    "\n",
    "X_pca.head()"
   ]
  },
  {
   "cell_type": "code",
   "execution_count": 29,
   "id": "e259f9b5",
   "metadata": {},
   "outputs": [
    {
     "data": {
      "text/html": [
       "<div>\n",
       "<style scoped>\n",
       "    .dataframe tbody tr th:only-of-type {\n",
       "        vertical-align: middle;\n",
       "    }\n",
       "\n",
       "    .dataframe tbody tr th {\n",
       "        vertical-align: top;\n",
       "    }\n",
       "\n",
       "    .dataframe thead th {\n",
       "        text-align: right;\n",
       "    }\n",
       "</style>\n",
       "<table border=\"1\" class=\"dataframe\">\n",
       "  <thead>\n",
       "    <tr style=\"text-align: right;\">\n",
       "      <th></th>\n",
       "      <th>PC1</th>\n",
       "      <th>PC2</th>\n",
       "      <th>PC3</th>\n",
       "      <th>PC4</th>\n",
       "      <th>PC5</th>\n",
       "      <th>PC6</th>\n",
       "      <th>PC7</th>\n",
       "      <th>PC8</th>\n",
       "      <th>PC9</th>\n",
       "      <th>PC10</th>\n",
       "      <th>PC11</th>\n",
       "      <th>PC12</th>\n",
       "      <th>PC13</th>\n",
       "      <th>PC14</th>\n",
       "      <th>PC15</th>\n",
       "    </tr>\n",
       "  </thead>\n",
       "  <tbody>\n",
       "    <tr>\n",
       "      <th>CreditGrade</th>\n",
       "      <td>-0.517379</td>\n",
       "      <td>-0.761643</td>\n",
       "      <td>0.177828</td>\n",
       "      <td>-0.061619</td>\n",
       "      <td>0.000378</td>\n",
       "      <td>0.335751</td>\n",
       "      <td>0.028504</td>\n",
       "      <td>-0.033527</td>\n",
       "      <td>0.003004</td>\n",
       "      <td>0.022096</td>\n",
       "      <td>-0.040384</td>\n",
       "      <td>-0.000941</td>\n",
       "      <td>0.001576</td>\n",
       "      <td>-0.001624</td>\n",
       "      <td>4.316176e-17</td>\n",
       "    </tr>\n",
       "    <tr>\n",
       "      <th>BorrowerAPR</th>\n",
       "      <td>-0.449292</td>\n",
       "      <td>0.160672</td>\n",
       "      <td>-0.004337</td>\n",
       "      <td>0.140400</td>\n",
       "      <td>0.060913</td>\n",
       "      <td>-0.170569</td>\n",
       "      <td>-0.045894</td>\n",
       "      <td>0.196215</td>\n",
       "      <td>-0.002545</td>\n",
       "      <td>-0.119710</td>\n",
       "      <td>0.814988</td>\n",
       "      <td>-0.023048</td>\n",
       "      <td>0.001734</td>\n",
       "      <td>-0.010186</td>\n",
       "      <td>-1.698435e-15</td>\n",
       "    </tr>\n",
       "    <tr>\n",
       "      <th>BorrowerRate</th>\n",
       "      <td>-0.468280</td>\n",
       "      <td>0.222470</td>\n",
       "      <td>-0.006101</td>\n",
       "      <td>0.162176</td>\n",
       "      <td>0.007868</td>\n",
       "      <td>-0.228672</td>\n",
       "      <td>-0.018804</td>\n",
       "      <td>-0.084099</td>\n",
       "      <td>0.023890</td>\n",
       "      <td>-0.017475</td>\n",
       "      <td>-0.352560</td>\n",
       "      <td>0.005159</td>\n",
       "      <td>-0.009506</td>\n",
       "      <td>0.720980</td>\n",
       "      <td>-7.159240e-16</td>\n",
       "    </tr>\n",
       "    <tr>\n",
       "      <th>LenderYield</th>\n",
       "      <td>-0.478740</td>\n",
       "      <td>0.227174</td>\n",
       "      <td>-0.005185</td>\n",
       "      <td>0.171294</td>\n",
       "      <td>0.028251</td>\n",
       "      <td>-0.245390</td>\n",
       "      <td>-0.029812</td>\n",
       "      <td>-0.087207</td>\n",
       "      <td>0.005998</td>\n",
       "      <td>0.038880</td>\n",
       "      <td>-0.374725</td>\n",
       "      <td>0.020890</td>\n",
       "      <td>0.002974</td>\n",
       "      <td>-0.691312</td>\n",
       "      <td>2.147981e-15</td>\n",
       "    </tr>\n",
       "    <tr>\n",
       "      <th>ProsperScore</th>\n",
       "      <td>0.127231</td>\n",
       "      <td>-0.392859</td>\n",
       "      <td>0.128352</td>\n",
       "      <td>-0.077430</td>\n",
       "      <td>-0.465738</td>\n",
       "      <td>-0.764492</td>\n",
       "      <td>-0.052376</td>\n",
       "      <td>0.049034</td>\n",
       "      <td>-0.004486</td>\n",
       "      <td>-0.006376</td>\n",
       "      <td>0.020767</td>\n",
       "      <td>0.001955</td>\n",
       "      <td>-0.000663</td>\n",
       "      <td>-0.000547</td>\n",
       "      <td>-3.847738e-17</td>\n",
       "    </tr>\n",
       "    <tr>\n",
       "      <th>CreditScore</th>\n",
       "      <td>0.186952</td>\n",
       "      <td>-0.229896</td>\n",
       "      <td>0.259495</td>\n",
       "      <td>0.247025</td>\n",
       "      <td>0.815731</td>\n",
       "      <td>-0.335475</td>\n",
       "      <td>0.070086</td>\n",
       "      <td>-0.016794</td>\n",
       "      <td>0.007294</td>\n",
       "      <td>-0.010398</td>\n",
       "      <td>-0.017367</td>\n",
       "      <td>-0.002508</td>\n",
       "      <td>-0.001544</td>\n",
       "      <td>0.014571</td>\n",
       "      <td>-5.527036e-17</td>\n",
       "    </tr>\n",
       "    <tr>\n",
       "      <th>MonthlyLoanPayment</th>\n",
       "      <td>0.048820</td>\n",
       "      <td>0.013124</td>\n",
       "      <td>0.213953</td>\n",
       "      <td>0.263522</td>\n",
       "      <td>-0.078257</td>\n",
       "      <td>0.121151</td>\n",
       "      <td>-0.166536</td>\n",
       "      <td>0.880705</td>\n",
       "      <td>-0.055184</td>\n",
       "      <td>-0.076941</td>\n",
       "      <td>-0.221428</td>\n",
       "      <td>0.007002</td>\n",
       "      <td>0.001523</td>\n",
       "      <td>-0.000486</td>\n",
       "      <td>8.861250e-16</td>\n",
       "    </tr>\n",
       "    <tr>\n",
       "      <th>LP_CustomerPayments</th>\n",
       "      <td>0.104496</td>\n",
       "      <td>-0.077710</td>\n",
       "      <td>-0.022108</td>\n",
       "      <td>0.568007</td>\n",
       "      <td>-0.159830</td>\n",
       "      <td>0.092202</td>\n",
       "      <td>-0.155581</td>\n",
       "      <td>-0.196023</td>\n",
       "      <td>-0.034526</td>\n",
       "      <td>0.164637</td>\n",
       "      <td>0.068589</td>\n",
       "      <td>-0.006521</td>\n",
       "      <td>0.009732</td>\n",
       "      <td>0.006810</td>\n",
       "      <td>7.280506e-01</td>\n",
       "    </tr>\n",
       "    <tr>\n",
       "      <th>LP_CustomerPrincipalPayments</th>\n",
       "      <td>0.117787</td>\n",
       "      <td>-0.103633</td>\n",
       "      <td>-0.061802</td>\n",
       "      <td>0.534774</td>\n",
       "      <td>-0.125954</td>\n",
       "      <td>0.100394</td>\n",
       "      <td>-0.433634</td>\n",
       "      <td>-0.248542</td>\n",
       "      <td>0.082896</td>\n",
       "      <td>-0.093269</td>\n",
       "      <td>0.045671</td>\n",
       "      <td>0.012890</td>\n",
       "      <td>-0.010338</td>\n",
       "      <td>-0.002320</td>\n",
       "      <td>-6.260148e-01</td>\n",
       "    </tr>\n",
       "    <tr>\n",
       "      <th>LP_InterestandFees</th>\n",
       "      <td>0.008384</td>\n",
       "      <td>0.029707</td>\n",
       "      <td>0.080872</td>\n",
       "      <td>0.281927</td>\n",
       "      <td>-0.134285</td>\n",
       "      <td>0.015320</td>\n",
       "      <td>0.566238</td>\n",
       "      <td>0.046090</td>\n",
       "      <td>-0.275730</td>\n",
       "      <td>0.638050</td>\n",
       "      <td>0.076405</td>\n",
       "      <td>-0.045877</td>\n",
       "      <td>0.048527</td>\n",
       "      <td>0.022947</td>\n",
       "      <td>-2.793704e-01</td>\n",
       "    </tr>\n",
       "    <tr>\n",
       "      <th>LP_ServiceFees</th>\n",
       "      <td>-0.057976</td>\n",
       "      <td>0.008446</td>\n",
       "      <td>-0.078995</td>\n",
       "      <td>-0.291091</td>\n",
       "      <td>0.171650</td>\n",
       "      <td>-0.057755</td>\n",
       "      <td>-0.640343</td>\n",
       "      <td>0.063368</td>\n",
       "      <td>-0.204297</td>\n",
       "      <td>0.642799</td>\n",
       "      <td>0.033524</td>\n",
       "      <td>-0.016951</td>\n",
       "      <td>0.034913</td>\n",
       "      <td>0.034371</td>\n",
       "      <td>8.315834e-17</td>\n",
       "    </tr>\n",
       "    <tr>\n",
       "      <th>LP_CollectionFees</th>\n",
       "      <td>0.000033</td>\n",
       "      <td>-0.006726</td>\n",
       "      <td>-0.011082</td>\n",
       "      <td>-0.004572</td>\n",
       "      <td>0.005695</td>\n",
       "      <td>-0.000201</td>\n",
       "      <td>-0.046955</td>\n",
       "      <td>-0.067970</td>\n",
       "      <td>-0.541793</td>\n",
       "      <td>-0.260615</td>\n",
       "      <td>-0.041236</td>\n",
       "      <td>-0.541491</td>\n",
       "      <td>0.580147</td>\n",
       "      <td>-0.003253</td>\n",
       "      <td>-2.072665e-16</td>\n",
       "    </tr>\n",
       "    <tr>\n",
       "      <th>LP_GrossPrincipalLoss</th>\n",
       "      <td>0.011423</td>\n",
       "      <td>0.189195</td>\n",
       "      <td>0.654325</td>\n",
       "      <td>-0.077217</td>\n",
       "      <td>-0.096855</td>\n",
       "      <td>0.077369</td>\n",
       "      <td>-0.072008</td>\n",
       "      <td>-0.142119</td>\n",
       "      <td>0.217023</td>\n",
       "      <td>0.063694</td>\n",
       "      <td>0.058277</td>\n",
       "      <td>0.352528</td>\n",
       "      <td>0.557089</td>\n",
       "      <td>0.006759</td>\n",
       "      <td>-2.174538e-16</td>\n",
       "    </tr>\n",
       "    <tr>\n",
       "      <th>LP_NetPrincipalLoss</th>\n",
       "      <td>0.010010</td>\n",
       "      <td>0.178704</td>\n",
       "      <td>0.626954</td>\n",
       "      <td>-0.074641</td>\n",
       "      <td>-0.092637</td>\n",
       "      <td>0.076552</td>\n",
       "      <td>-0.098488</td>\n",
       "      <td>-0.178341</td>\n",
       "      <td>-0.221750</td>\n",
       "      <td>-0.056615</td>\n",
       "      <td>0.028849</td>\n",
       "      <td>-0.356050</td>\n",
       "      <td>-0.577322</td>\n",
       "      <td>-0.009607</td>\n",
       "      <td>6.514711e-17</td>\n",
       "    </tr>\n",
       "    <tr>\n",
       "      <th>LP_NonPrincipalRecoverypayments</th>\n",
       "      <td>0.000635</td>\n",
       "      <td>0.010684</td>\n",
       "      <td>0.016819</td>\n",
       "      <td>-0.000995</td>\n",
       "      <td>-0.008704</td>\n",
       "      <td>-0.002081</td>\n",
       "      <td>0.021233</td>\n",
       "      <td>0.066403</td>\n",
       "      <td>0.693267</td>\n",
       "      <td>0.214499</td>\n",
       "      <td>-0.001770</td>\n",
       "      <td>-0.672373</td>\n",
       "      <td>0.126076</td>\n",
       "      <td>-0.006948</td>\n",
       "      <td>6.325881e-17</td>\n",
       "    </tr>\n",
       "  </tbody>\n",
       "</table>\n",
       "</div>"
      ],
      "text/plain": [
       "                                      PC1       PC2       PC3       PC4  \\\n",
       "CreditGrade                     -0.517379 -0.761643  0.177828 -0.061619   \n",
       "BorrowerAPR                     -0.449292  0.160672 -0.004337  0.140400   \n",
       "BorrowerRate                    -0.468280  0.222470 -0.006101  0.162176   \n",
       "LenderYield                     -0.478740  0.227174 -0.005185  0.171294   \n",
       "ProsperScore                     0.127231 -0.392859  0.128352 -0.077430   \n",
       "CreditScore                      0.186952 -0.229896  0.259495  0.247025   \n",
       "MonthlyLoanPayment               0.048820  0.013124  0.213953  0.263522   \n",
       "LP_CustomerPayments              0.104496 -0.077710 -0.022108  0.568007   \n",
       "LP_CustomerPrincipalPayments     0.117787 -0.103633 -0.061802  0.534774   \n",
       "LP_InterestandFees               0.008384  0.029707  0.080872  0.281927   \n",
       "LP_ServiceFees                  -0.057976  0.008446 -0.078995 -0.291091   \n",
       "LP_CollectionFees                0.000033 -0.006726 -0.011082 -0.004572   \n",
       "LP_GrossPrincipalLoss            0.011423  0.189195  0.654325 -0.077217   \n",
       "LP_NetPrincipalLoss              0.010010  0.178704  0.626954 -0.074641   \n",
       "LP_NonPrincipalRecoverypayments  0.000635  0.010684  0.016819 -0.000995   \n",
       "\n",
       "                                      PC5       PC6       PC7       PC8  \\\n",
       "CreditGrade                      0.000378  0.335751  0.028504 -0.033527   \n",
       "BorrowerAPR                      0.060913 -0.170569 -0.045894  0.196215   \n",
       "BorrowerRate                     0.007868 -0.228672 -0.018804 -0.084099   \n",
       "LenderYield                      0.028251 -0.245390 -0.029812 -0.087207   \n",
       "ProsperScore                    -0.465738 -0.764492 -0.052376  0.049034   \n",
       "CreditScore                      0.815731 -0.335475  0.070086 -0.016794   \n",
       "MonthlyLoanPayment              -0.078257  0.121151 -0.166536  0.880705   \n",
       "LP_CustomerPayments             -0.159830  0.092202 -0.155581 -0.196023   \n",
       "LP_CustomerPrincipalPayments    -0.125954  0.100394 -0.433634 -0.248542   \n",
       "LP_InterestandFees              -0.134285  0.015320  0.566238  0.046090   \n",
       "LP_ServiceFees                   0.171650 -0.057755 -0.640343  0.063368   \n",
       "LP_CollectionFees                0.005695 -0.000201 -0.046955 -0.067970   \n",
       "LP_GrossPrincipalLoss           -0.096855  0.077369 -0.072008 -0.142119   \n",
       "LP_NetPrincipalLoss             -0.092637  0.076552 -0.098488 -0.178341   \n",
       "LP_NonPrincipalRecoverypayments -0.008704 -0.002081  0.021233  0.066403   \n",
       "\n",
       "                                      PC9      PC10      PC11      PC12  \\\n",
       "CreditGrade                      0.003004  0.022096 -0.040384 -0.000941   \n",
       "BorrowerAPR                     -0.002545 -0.119710  0.814988 -0.023048   \n",
       "BorrowerRate                     0.023890 -0.017475 -0.352560  0.005159   \n",
       "LenderYield                      0.005998  0.038880 -0.374725  0.020890   \n",
       "ProsperScore                    -0.004486 -0.006376  0.020767  0.001955   \n",
       "CreditScore                      0.007294 -0.010398 -0.017367 -0.002508   \n",
       "MonthlyLoanPayment              -0.055184 -0.076941 -0.221428  0.007002   \n",
       "LP_CustomerPayments             -0.034526  0.164637  0.068589 -0.006521   \n",
       "LP_CustomerPrincipalPayments     0.082896 -0.093269  0.045671  0.012890   \n",
       "LP_InterestandFees              -0.275730  0.638050  0.076405 -0.045877   \n",
       "LP_ServiceFees                  -0.204297  0.642799  0.033524 -0.016951   \n",
       "LP_CollectionFees               -0.541793 -0.260615 -0.041236 -0.541491   \n",
       "LP_GrossPrincipalLoss            0.217023  0.063694  0.058277  0.352528   \n",
       "LP_NetPrincipalLoss             -0.221750 -0.056615  0.028849 -0.356050   \n",
       "LP_NonPrincipalRecoverypayments  0.693267  0.214499 -0.001770 -0.672373   \n",
       "\n",
       "                                     PC13      PC14          PC15  \n",
       "CreditGrade                      0.001576 -0.001624  4.316176e-17  \n",
       "BorrowerAPR                      0.001734 -0.010186 -1.698435e-15  \n",
       "BorrowerRate                    -0.009506  0.720980 -7.159240e-16  \n",
       "LenderYield                      0.002974 -0.691312  2.147981e-15  \n",
       "ProsperScore                    -0.000663 -0.000547 -3.847738e-17  \n",
       "CreditScore                     -0.001544  0.014571 -5.527036e-17  \n",
       "MonthlyLoanPayment               0.001523 -0.000486  8.861250e-16  \n",
       "LP_CustomerPayments              0.009732  0.006810  7.280506e-01  \n",
       "LP_CustomerPrincipalPayments    -0.010338 -0.002320 -6.260148e-01  \n",
       "LP_InterestandFees               0.048527  0.022947 -2.793704e-01  \n",
       "LP_ServiceFees                   0.034913  0.034371  8.315834e-17  \n",
       "LP_CollectionFees                0.580147 -0.003253 -2.072665e-16  \n",
       "LP_GrossPrincipalLoss            0.557089  0.006759 -2.174538e-16  \n",
       "LP_NetPrincipalLoss             -0.577322 -0.009607  6.514711e-17  \n",
       "LP_NonPrincipalRecoverypayments  0.126076 -0.006948  6.325881e-17  "
      ]
     },
     "execution_count": 29,
     "metadata": {},
     "output_type": "execute_result"
    }
   ],
   "source": [
    "data_load=pd.DataFrame(\n",
    "    pca.components_.T,  # transpose the matrix of loadings\n",
    "    columns=component_names,  # so the columns are the principal components\n",
    "    index=X.columns,  # and the rows are the original features\n",
    ")\n",
    "\n",
    "data_load"
   ]
  },
  {
   "cell_type": "code",
   "execution_count": 30,
   "id": "f946d64c",
   "metadata": {},
   "outputs": [],
   "source": [
    "# plot_variance(pca)"
   ]
  },
  {
   "cell_type": "markdown",
   "id": "be60c82f",
   "metadata": {},
   "source": [
    "## Model Implementation"
   ]
  },
  {
   "cell_type": "markdown",
   "id": "19f6dc4d",
   "metadata": {},
   "source": [
    "* Step 1: Splitting of the data first by using train and test split "
   ]
  },
  {
   "cell_type": "code",
   "execution_count": 31,
   "id": "44ba43d9",
   "metadata": {},
   "outputs": [
    {
     "name": "stdout",
     "output_type": "stream",
     "text": [
      "(67060, 15) (46942, 15) (20118, 15)\n"
     ]
    }
   ],
   "source": [
    "from sklearn.model_selection import train_test_split\n",
    "X_train, X_test, Y_train, Y_test = train_test_split(X_pca, y, test_size=0.30, random_state=100)\n",
    "print(X_pca.shape, X_train.shape, X_test.shape)"
   ]
  },
  {
   "cell_type": "markdown",
   "id": "b9d4c455",
   "metadata": {},
   "source": [
    "* Step 2 : Standarise the given data "
   ]
  },
  {
   "cell_type": "code",
   "execution_count": 32,
   "id": "4642d257",
   "metadata": {},
   "outputs": [],
   "source": [
    "from sklearn.preprocessing import StandardScaler\n",
    "scaler = StandardScaler()\n",
    "X_train_std = scaler.fit_transform(X_train)\n",
    "X_test_std = scaler.transform(X_test)"
   ]
  },
  {
   "cell_type": "markdown",
   "id": "5ed44292",
   "metadata": {},
   "source": [
    "* Step 3: Model Implementation on the provided data "
   ]
  },
  {
   "cell_type": "markdown",
   "id": "5b409411",
   "metadata": {},
   "source": [
    "### Gaussian Naive Baye's"
   ]
  },
  {
   "cell_type": "code",
   "execution_count": 33,
   "id": "4c85e8fd",
   "metadata": {},
   "outputs": [
    {
     "data": {
      "text/html": [
       "<style>#sk-container-id-1 {color: black;}#sk-container-id-1 pre{padding: 0;}#sk-container-id-1 div.sk-toggleable {background-color: white;}#sk-container-id-1 label.sk-toggleable__label {cursor: pointer;display: block;width: 100%;margin-bottom: 0;padding: 0.3em;box-sizing: border-box;text-align: center;}#sk-container-id-1 label.sk-toggleable__label-arrow:before {content: \"▸\";float: left;margin-right: 0.25em;color: #696969;}#sk-container-id-1 label.sk-toggleable__label-arrow:hover:before {color: black;}#sk-container-id-1 div.sk-estimator:hover label.sk-toggleable__label-arrow:before {color: black;}#sk-container-id-1 div.sk-toggleable__content {max-height: 0;max-width: 0;overflow: hidden;text-align: left;background-color: #f0f8ff;}#sk-container-id-1 div.sk-toggleable__content pre {margin: 0.2em;color: black;border-radius: 0.25em;background-color: #f0f8ff;}#sk-container-id-1 input.sk-toggleable__control:checked~div.sk-toggleable__content {max-height: 200px;max-width: 100%;overflow: auto;}#sk-container-id-1 input.sk-toggleable__control:checked~label.sk-toggleable__label-arrow:before {content: \"▾\";}#sk-container-id-1 div.sk-estimator input.sk-toggleable__control:checked~label.sk-toggleable__label {background-color: #d4ebff;}#sk-container-id-1 div.sk-label input.sk-toggleable__control:checked~label.sk-toggleable__label {background-color: #d4ebff;}#sk-container-id-1 input.sk-hidden--visually {border: 0;clip: rect(1px 1px 1px 1px);clip: rect(1px, 1px, 1px, 1px);height: 1px;margin: -1px;overflow: hidden;padding: 0;position: absolute;width: 1px;}#sk-container-id-1 div.sk-estimator {font-family: monospace;background-color: #f0f8ff;border: 1px dotted black;border-radius: 0.25em;box-sizing: border-box;margin-bottom: 0.5em;}#sk-container-id-1 div.sk-estimator:hover {background-color: #d4ebff;}#sk-container-id-1 div.sk-parallel-item::after {content: \"\";width: 100%;border-bottom: 1px solid gray;flex-grow: 1;}#sk-container-id-1 div.sk-label:hover label.sk-toggleable__label {background-color: #d4ebff;}#sk-container-id-1 div.sk-serial::before {content: \"\";position: absolute;border-left: 1px solid gray;box-sizing: border-box;top: 0;bottom: 0;left: 50%;z-index: 0;}#sk-container-id-1 div.sk-serial {display: flex;flex-direction: column;align-items: center;background-color: white;padding-right: 0.2em;padding-left: 0.2em;position: relative;}#sk-container-id-1 div.sk-item {position: relative;z-index: 1;}#sk-container-id-1 div.sk-parallel {display: flex;align-items: stretch;justify-content: center;background-color: white;position: relative;}#sk-container-id-1 div.sk-item::before, #sk-container-id-1 div.sk-parallel-item::before {content: \"\";position: absolute;border-left: 1px solid gray;box-sizing: border-box;top: 0;bottom: 0;left: 50%;z-index: -1;}#sk-container-id-1 div.sk-parallel-item {display: flex;flex-direction: column;z-index: 1;position: relative;background-color: white;}#sk-container-id-1 div.sk-parallel-item:first-child::after {align-self: flex-end;width: 50%;}#sk-container-id-1 div.sk-parallel-item:last-child::after {align-self: flex-start;width: 50%;}#sk-container-id-1 div.sk-parallel-item:only-child::after {width: 0;}#sk-container-id-1 div.sk-dashed-wrapped {border: 1px dashed gray;margin: 0 0.4em 0.5em 0.4em;box-sizing: border-box;padding-bottom: 0.4em;background-color: white;}#sk-container-id-1 div.sk-label label {font-family: monospace;font-weight: bold;display: inline-block;line-height: 1.2em;}#sk-container-id-1 div.sk-label-container {text-align: center;}#sk-container-id-1 div.sk-container {/* jupyter's `normalize.less` sets `[hidden] { display: none; }` but bootstrap.min.css set `[hidden] { display: none !important; }` so we also need the `!important` here to be able to override the default hidden behavior on the sphinx rendered scikit-learn.org. See: https://github.com/scikit-learn/scikit-learn/issues/21755 */display: inline-block !important;position: relative;}#sk-container-id-1 div.sk-text-repr-fallback {display: none;}</style><div id=\"sk-container-id-1\" class=\"sk-top-container\"><div class=\"sk-text-repr-fallback\"><pre>GaussianNB()</pre><b>In a Jupyter environment, please rerun this cell to show the HTML representation or trust the notebook. <br />On GitHub, the HTML representation is unable to render, please try loading this page with nbviewer.org.</b></div><div class=\"sk-container\" hidden><div class=\"sk-item\"><div class=\"sk-estimator sk-toggleable\"><input class=\"sk-toggleable__control sk-hidden--visually\" id=\"sk-estimator-id-1\" type=\"checkbox\" checked><label for=\"sk-estimator-id-1\" class=\"sk-toggleable__label sk-toggleable__label-arrow\">GaussianNB</label><div class=\"sk-toggleable__content\"><pre>GaussianNB()</pre></div></div></div></div></div>"
      ],
      "text/plain": [
       "GaussianNB()"
      ]
     },
     "execution_count": 33,
     "metadata": {},
     "output_type": "execute_result"
    }
   ],
   "source": [
    "from sklearn.naive_bayes import GaussianNB\n",
    "gnb = GaussianNB()\n",
    "gnb.fit(X_train_std, Y_train)"
   ]
  },
  {
   "cell_type": "code",
   "execution_count": 34,
   "id": "6d101a89",
   "metadata": {},
   "outputs": [],
   "source": [
    "Y_pred=gnb.predict(X_test_std)"
   ]
  },
  {
   "cell_type": "code",
   "execution_count": 35,
   "id": "ffdc87c5",
   "metadata": {},
   "outputs": [
    {
     "name": "stdout",
     "output_type": "stream",
     "text": [
      "Gaussian Naive Bayes model accuracy(in %): 70.09643105676508\n"
     ]
    }
   ],
   "source": [
    "from sklearn import metrics\n",
    "print(\"Gaussian Naive Bayes model accuracy(in %):\", metrics.accuracy_score(Y_test, Y_pred)*100)\n"
   ]
  },
  {
   "cell_type": "code",
   "execution_count": 36,
   "id": "13169a0b",
   "metadata": {},
   "outputs": [
    {
     "name": "stdout",
     "output_type": "stream",
     "text": [
      "              precision    recall  f1-score   support\n",
      "\n",
      "           0       0.94      0.43      0.59     10030\n",
      "           1       0.63      0.97      0.77     10088\n",
      "\n",
      "    accuracy                           0.70     20118\n",
      "   macro avg       0.78      0.70      0.68     20118\n",
      "weighted avg       0.78      0.70      0.68     20118\n",
      "\n"
     ]
    }
   ],
   "source": [
    "#Evaluation of the model \n",
    "\n",
    "from sklearn.metrics import classification_report, confusion_matrix\n",
    "print(classification_report(Y_test,Y_pred))"
   ]
  },
  {
   "cell_type": "code",
   "execution_count": 37,
   "id": "d47fac2d",
   "metadata": {},
   "outputs": [
    {
     "data": {
      "text/plain": [
       "array([[4297, 5733],\n",
       "       [ 283, 9805]], dtype=int64)"
      ]
     },
     "execution_count": 37,
     "metadata": {},
     "output_type": "execute_result"
    }
   ],
   "source": [
    "confusion_matrix(Y_test,Y_pred)"
   ]
  },
  {
   "cell_type": "code",
   "execution_count": 38,
   "id": "0c073b0a",
   "metadata": {},
   "outputs": [
    {
     "data": {
      "text/plain": [
       "Text(0.5, 1.0, 'Confusion Matrix')"
      ]
     },
     "execution_count": 38,
     "metadata": {},
     "output_type": "execute_result"
    },
    {
     "data": {
      "image/png": "[encoded data removed]",
      "text/plain": [
       "<Figure size 640x480 with 2 Axes>"
      ]
     },
     "metadata": {},
     "output_type": "display_data"
    }
   ],
   "source": [
    "cf_matrix = confusion_matrix(Y_test, Y_pred)\n",
    "plt.figure()\n",
    "sns.heatmap(cf_matrix, annot=True)\n",
    "plt.xlabel('Prediction')\n",
    "plt.ylabel('Target')\n",
    "plt.title('Confusion Matrix')\n",
    " \n",
    "  "
   ]
  },
  {
   "cell_type": "code",
   "execution_count": 39,
   "id": "84f33d28",
   "metadata": {},
   "outputs": [
    {
     "data": {
      "text/html": [
       "<style>#sk-container-id-2 {color: black;}#sk-container-id-2 pre{padding: 0;}#sk-container-id-2 div.sk-toggleable {background-color: white;}#sk-container-id-2 label.sk-toggleable__label {cursor: pointer;display: block;width: 100%;margin-bottom: 0;padding: 0.3em;box-sizing: border-box;text-align: center;}#sk-container-id-2 label.sk-toggleable__label-arrow:before {content: \"▸\";float: left;margin-right: 0.25em;color: #696969;}#sk-container-id-2 label.sk-toggleable__label-arrow:hover:before {color: black;}#sk-container-id-2 div.sk-estimator:hover label.sk-toggleable__label-arrow:before {color: black;}#sk-container-id-2 div.sk-toggleable__content {max-height: 0;max-width: 0;overflow: hidden;text-align: left;background-color: #f0f8ff;}#sk-container-id-2 div.sk-toggleable__content pre {margin: 0.2em;color: black;border-radius: 0.25em;background-color: #f0f8ff;}#sk-container-id-2 input.sk-toggleable__control:checked~div.sk-toggleable__content {max-height: 200px;max-width: 100%;overflow: auto;}#sk-container-id-2 input.sk-toggleable__control:checked~label.sk-toggleable__label-arrow:before {content: \"▾\";}#sk-container-id-2 div.sk-estimator input.sk-toggleable__control:checked~label.sk-toggleable__label {background-color: #d4ebff;}#sk-container-id-2 div.sk-label input.sk-toggleable__control:checked~label.sk-toggleable__label {background-color: #d4ebff;}#sk-container-id-2 input.sk-hidden--visually {border: 0;clip: rect(1px 1px 1px 1px);clip: rect(1px, 1px, 1px, 1px);height: 1px;margin: -1px;overflow: hidden;padding: 0;position: absolute;width: 1px;}#sk-container-id-2 div.sk-estimator {font-family: monospace;background-color: #f0f8ff;border: 1px dotted black;border-radius: 0.25em;box-sizing: border-box;margin-bottom: 0.5em;}#sk-container-id-2 div.sk-estimator:hover {background-color: #d4ebff;}#sk-container-id-2 div.sk-parallel-item::after {content: \"\";width: 100%;border-bottom: 1px solid gray;flex-grow: 1;}#sk-container-id-2 div.sk-label:hover label.sk-toggleable__label {background-color: #d4ebff;}#sk-container-id-2 div.sk-serial::before {content: \"\";position: absolute;border-left: 1px solid gray;box-sizing: border-box;top: 0;bottom: 0;left: 50%;z-index: 0;}#sk-container-id-2 div.sk-serial {display: flex;flex-direction: column;align-items: center;background-color: white;padding-right: 0.2em;padding-left: 0.2em;position: relative;}#sk-container-id-2 div.sk-item {position: relative;z-index: 1;}#sk-container-id-2 div.sk-parallel {display: flex;align-items: stretch;justify-content: center;background-color: white;position: relative;}#sk-container-id-2 div.sk-item::before, #sk-container-id-2 div.sk-parallel-item::before {content: \"\";position: absolute;border-left: 1px solid gray;box-sizing: border-box;top: 0;bottom: 0;left: 50%;z-index: -1;}#sk-container-id-2 div.sk-parallel-item {display: flex;flex-direction: column;z-index: 1;position: relative;background-color: white;}#sk-container-id-2 div.sk-parallel-item:first-child::after {align-self: flex-end;width: 50%;}#sk-container-id-2 div.sk-parallel-item:last-child::after {align-self: flex-start;width: 50%;}#sk-container-id-2 div.sk-parallel-item:only-child::after {width: 0;}#sk-container-id-2 div.sk-dashed-wrapped {border: 1px dashed gray;margin: 0 0.4em 0.5em 0.4em;box-sizing: border-box;padding-bottom: 0.4em;background-color: white;}#sk-container-id-2 div.sk-label label {font-family: monospace;font-weight: bold;display: inline-block;line-height: 1.2em;}#sk-container-id-2 div.sk-label-container {text-align: center;}#sk-container-id-2 div.sk-container {/* jupyter's `normalize.less` sets `[hidden] { display: none; }` but bootstrap.min.css set `[hidden] { display: none !important; }` so we also need the `!important` here to be able to override the default hidden behavior on the sphinx rendered scikit-learn.org. See: https://github.com/scikit-learn/scikit-learn/issues/21755 */display: inline-block !important;position: relative;}#sk-container-id-2 div.sk-text-repr-fallback {display: none;}</style><div id=\"sk-container-id-2\" class=\"sk-top-container\"><div class=\"sk-text-repr-fallback\"><pre>BernoulliNB()</pre><b>In a Jupyter environment, please rerun this cell to show the HTML representation or trust the notebook. <br />On GitHub, the HTML representation is unable to render, please try loading this page with nbviewer.org.</b></div><div class=\"sk-container\" hidden><div class=\"sk-item\"><div class=\"sk-estimator sk-toggleable\"><input class=\"sk-toggleable__control sk-hidden--visually\" id=\"sk-estimator-id-2\" type=\"checkbox\" checked><label for=\"sk-estimator-id-2\" class=\"sk-toggleable__label sk-toggleable__label-arrow\">BernoulliNB</label><div class=\"sk-toggleable__content\"><pre>BernoulliNB()</pre></div></div></div></div></div>"
      ],
      "text/plain": [
       "BernoulliNB()"
      ]
     },
     "execution_count": 39,
     "metadata": {},
     "output_type": "execute_result"
    }
   ],
   "source": [
    "from sklearn.naive_bayes import MultinomialNB \n",
    "from sklearn.naive_bayes import BernoulliNB\n",
    "\n",
    "# mnb=MultinomialNB()\n",
    "# mnb.fit(X_train_std,Y_train)\n",
    "\n",
    "# we can't implement mnb because it can't handle the negative values\n",
    "\n",
    "bnb=BernoulliNB()\n",
    "bnb.fit(X_train_std,Y_train)"
   ]
  },
  {
   "cell_type": "code",
   "execution_count": 40,
   "id": "aed8f9b1",
   "metadata": {},
   "outputs": [],
   "source": [
    "Y_pred=bnb.predict(X_test_std)"
   ]
  },
  {
   "cell_type": "code",
   "execution_count": 41,
   "id": "e8847e19",
   "metadata": {},
   "outputs": [
    {
     "name": "stdout",
     "output_type": "stream",
     "text": [
      "Bernoulli Naive Bayes model accuracy(in %): 79.87871557808927\n"
     ]
    }
   ],
   "source": [
    "from sklearn import metrics\n",
    "print(\"Bernoulli Naive Bayes model accuracy(in %):\", metrics.accuracy_score(Y_test, Y_pred)*100)\n"
   ]
  },
  {
   "cell_type": "code",
   "execution_count": 42,
   "id": "62d2a718",
   "metadata": {},
   "outputs": [
    {
     "name": "stdout",
     "output_type": "stream",
     "text": [
      "              precision    recall  f1-score   support\n",
      "\n",
      "           0       0.82      0.76      0.79     10030\n",
      "           1       0.78      0.83      0.81     10088\n",
      "\n",
      "    accuracy                           0.80     20118\n",
      "   macro avg       0.80      0.80      0.80     20118\n",
      "weighted avg       0.80      0.80      0.80     20118\n",
      "\n"
     ]
    }
   ],
   "source": [
    "#Evaluation of the model \n",
    "\n",
    "from sklearn.metrics import classification_report, confusion_matrix\n",
    "print(classification_report(Y_test,Y_pred))"
   ]
  },
  {
   "cell_type": "code",
   "execution_count": 43,
   "id": "91db9449",
   "metadata": {},
   "outputs": [
    {
     "data": {
      "text/plain": [
       "array([[7655, 2375],\n",
       "       [1673, 8415]], dtype=int64)"
      ]
     },
     "execution_count": 43,
     "metadata": {},
     "output_type": "execute_result"
    }
   ],
   "source": [
    "confusion_matrix(Y_test,Y_pred)"
   ]
  },
  {
   "cell_type": "code",
   "execution_count": 44,
   "id": "3531155c",
   "metadata": {},
   "outputs": [
    {
     "data": {
      "text/plain": [
       "Text(0.5, 1.0, 'Confusion Matrix')"
      ]
     },
     "execution_count": 44,
     "metadata": {},
     "output_type": "execute_result"
    },
    {
     "data": {
      "image/png": "[encoded data removed]",
      "text/plain": [
       "<Figure size 640x480 with 2 Axes>"
      ]
     },
     "metadata": {},
     "output_type": "display_data"
    }
   ],
   "source": [
    "cf_matrix = confusion_matrix(Y_test, Y_pred)\n",
    "plt.figure()\n",
    "sns.heatmap(cf_matrix, annot=True)\n",
    "plt.xlabel('Prediction')\n",
    "plt.ylabel('Target')\n",
    "plt.title('Confusion Matrix')"
   ]
  },
  {
   "cell_type": "markdown",
   "id": "e85bec52",
   "metadata": {},
   "source": [
    "## Logistic Regression Model \n"
   ]
  },
  {
   "cell_type": "code",
   "execution_count": 45,
   "id": "00c4f1a9",
   "metadata": {},
   "outputs": [],
   "source": [
    "from sklearn.linear_model import LogisticRegression"
   ]
  },
  {
   "cell_type": "code",
   "execution_count": 46,
   "id": "172532fc",
   "metadata": {},
   "outputs": [],
   "source": [
    "lgmodel=LogisticRegression()"
   ]
  },
  {
   "cell_type": "code",
   "execution_count": 47,
   "id": "05aa3208",
   "metadata": {},
   "outputs": [
    {
     "data": {
      "text/html": [
       "<style>#sk-container-id-3 {color: black;}#sk-container-id-3 pre{padding: 0;}#sk-container-id-3 div.sk-toggleable {background-color: white;}#sk-container-id-3 label.sk-toggleable__label {cursor: pointer;display: block;width: 100%;margin-bottom: 0;padding: 0.3em;box-sizing: border-box;text-align: center;}#sk-container-id-3 label.sk-toggleable__label-arrow:before {content: \"▸\";float: left;margin-right: 0.25em;color: #696969;}#sk-container-id-3 label.sk-toggleable__label-arrow:hover:before {color: black;}#sk-container-id-3 div.sk-estimator:hover label.sk-toggleable__label-arrow:before {color: black;}#sk-container-id-3 div.sk-toggleable__content {max-height: 0;max-width: 0;overflow: hidden;text-align: left;background-color: #f0f8ff;}#sk-container-id-3 div.sk-toggleable__content pre {margin: 0.2em;color: black;border-radius: 0.25em;background-color: #f0f8ff;}#sk-container-id-3 input.sk-toggleable__control:checked~div.sk-toggleable__content {max-height: 200px;max-width: 100%;overflow: auto;}#sk-container-id-3 input.sk-toggleable__control:checked~label.sk-toggleable__label-arrow:before {content: \"▾\";}#sk-container-id-3 div.sk-estimator input.sk-toggleable__control:checked~label.sk-toggleable__label {background-color: #d4ebff;}#sk-container-id-3 div.sk-label input.sk-toggleable__control:checked~label.sk-toggleable__label {background-color: #d4ebff;}#sk-container-id-3 input.sk-hidden--visually {border: 0;clip: rect(1px 1px 1px 1px);clip: rect(1px, 1px, 1px, 1px);height: 1px;margin: -1px;overflow: hidden;padding: 0;position: absolute;width: 1px;}#sk-container-id-3 div.sk-estimator {font-family: monospace;background-color: #f0f8ff;border: 1px dotted black;border-radius: 0.25em;box-sizing: border-box;margin-bottom: 0.5em;}#sk-container-id-3 div.sk-estimator:hover {background-color: #d4ebff;}#sk-container-id-3 div.sk-parallel-item::after {content: \"\";width: 100%;border-bottom: 1px solid gray;flex-grow: 1;}#sk-container-id-3 div.sk-label:hover label.sk-toggleable__label {background-color: #d4ebff;}#sk-container-id-3 div.sk-serial::before {content: \"\";position: absolute;border-left: 1px solid gray;box-sizing: border-box;top: 0;bottom: 0;left: 50%;z-index: 0;}#sk-container-id-3 div.sk-serial {display: flex;flex-direction: column;align-items: center;background-color: white;padding-right: 0.2em;padding-left: 0.2em;position: relative;}#sk-container-id-3 div.sk-item {position: relative;z-index: 1;}#sk-container-id-3 div.sk-parallel {display: flex;align-items: stretch;justify-content: center;background-color: white;position: relative;}#sk-container-id-3 div.sk-item::before, #sk-container-id-3 div.sk-parallel-item::before {content: \"\";position: absolute;border-left: 1px solid gray;box-sizing: border-box;top: 0;bottom: 0;left: 50%;z-index: -1;}#sk-container-id-3 div.sk-parallel-item {display: flex;flex-direction: column;z-index: 1;position: relative;background-color: white;}#sk-container-id-3 div.sk-parallel-item:first-child::after {align-self: flex-end;width: 50%;}#sk-container-id-3 div.sk-parallel-item:last-child::after {align-self: flex-start;width: 50%;}#sk-container-id-3 div.sk-parallel-item:only-child::after {width: 0;}#sk-container-id-3 div.sk-dashed-wrapped {border: 1px dashed gray;margin: 0 0.4em 0.5em 0.4em;box-sizing: border-box;padding-bottom: 0.4em;background-color: white;}#sk-container-id-3 div.sk-label label {font-family: monospace;font-weight: bold;display: inline-block;line-height: 1.2em;}#sk-container-id-3 div.sk-label-container {text-align: center;}#sk-container-id-3 div.sk-container {/* jupyter's `normalize.less` sets `[hidden] { display: none; }` but bootstrap.min.css set `[hidden] { display: none !important; }` so we also need the `!important` here to be able to override the default hidden behavior on the sphinx rendered scikit-learn.org. See: https://github.com/scikit-learn/scikit-learn/issues/21755 */display: inline-block !important;position: relative;}#sk-container-id-3 div.sk-text-repr-fallback {display: none;}</style><div id=\"sk-container-id-3\" class=\"sk-top-container\"><div class=\"sk-text-repr-fallback\"><pre>LogisticRegression()</pre><b>In a Jupyter environment, please rerun this cell to show the HTML representation or trust the notebook. <br />On GitHub, the HTML representation is unable to render, please try loading this page with nbviewer.org.</b></div><div class=\"sk-container\" hidden><div class=\"sk-item\"><div class=\"sk-estimator sk-toggleable\"><input class=\"sk-toggleable__control sk-hidden--visually\" id=\"sk-estimator-id-3\" type=\"checkbox\" checked><label for=\"sk-estimator-id-3\" class=\"sk-toggleable__label sk-toggleable__label-arrow\">LogisticRegression</label><div class=\"sk-toggleable__content\"><pre>LogisticRegression()</pre></div></div></div></div></div>"
      ],
      "text/plain": [
       "LogisticRegression()"
      ]
     },
     "execution_count": 47,
     "metadata": {},
     "output_type": "execute_result"
    }
   ],
   "source": [
    "lgmodel.fit(X_train_std,Y_train)"
   ]
  },
  {
   "cell_type": "code",
   "execution_count": 48,
   "id": "63f941dd",
   "metadata": {},
   "outputs": [],
   "source": [
    "y_pred=lgmodel.predict(X_test_std)"
   ]
  },
  {
   "cell_type": "code",
   "execution_count": 49,
   "id": "bd55c4cc",
   "metadata": {},
   "outputs": [
    {
     "data": {
      "text/plain": [
       "array([1, 0, 0, 1, 0], dtype=int64)"
      ]
     },
     "execution_count": 49,
     "metadata": {},
     "output_type": "execute_result"
    }
   ],
   "source": [
    "y_pred[:5]"
   ]
  },
  {
   "cell_type": "code",
   "execution_count": 50,
   "id": "b9a0c3fb",
   "metadata": {},
   "outputs": [
    {
     "data": {
      "text/plain": [
       "47721    1\n",
       "5067     0\n",
       "59447    0\n",
       "46473    1\n",
       "65245    0\n",
       "Name: LoanStatus, dtype: int64"
      ]
     },
     "execution_count": 50,
     "metadata": {},
     "output_type": "execute_result"
    }
   ],
   "source": [
    "Y_test[:5]"
   ]
  },
  {
   "cell_type": "markdown",
   "id": "2dadb531",
   "metadata": {},
   "source": [
    "## Evaluation"
   ]
  },
  {
   "cell_type": "code",
   "execution_count": 51,
   "id": "b433fb4f",
   "metadata": {},
   "outputs": [],
   "source": [
    "from sklearn.metrics import classification_report"
   ]
  },
  {
   "cell_type": "code",
   "execution_count": 52,
   "id": "424568b0",
   "metadata": {},
   "outputs": [
    {
     "name": "stdout",
     "output_type": "stream",
     "text": [
      "              precision    recall  f1-score   support\n",
      "\n",
      "           0       1.00      0.97      0.98     10030\n",
      "           1       0.97      1.00      0.99     10088\n",
      "\n",
      "    accuracy                           0.98     20118\n",
      "   macro avg       0.99      0.98      0.98     20118\n",
      "weighted avg       0.99      0.98      0.98     20118\n",
      "\n"
     ]
    }
   ],
   "source": [
    "print(classification_report(Y_test,y_pred))"
   ]
  },
  {
   "cell_type": "code",
   "execution_count": 53,
   "id": "c190d71a",
   "metadata": {},
   "outputs": [
    {
     "name": "stdout",
     "output_type": "stream",
     "text": [
      "Accuracy: 0.9848891539914505\n"
     ]
    }
   ],
   "source": [
    "accuracy = lgmodel.score(X_test_std, Y_test)\n",
    "print(f\"Accuracy: {accuracy}\")"
   ]
  },
  {
   "cell_type": "code",
   "execution_count": 54,
   "id": "6de90206",
   "metadata": {},
   "outputs": [
    {
     "data": {
      "text/plain": [
       "Text(0.5, 1.0, 'Confusion Matrix')"
      ]
     },
     "execution_count": 54,
     "metadata": {},
     "output_type": "execute_result"
    },
    {
     "data": {
      "image/png": "[encoded data removed]",
      "text/plain": [
       "<Figure size 640x480 with 2 Axes>"
      ]
     },
     "metadata": {},
     "output_type": "display_data"
    }
   ],
   "source": [
    "cf_matrix = confusion_matrix(Y_test, y_pred)\n",
    "plt.figure()\n",
    "sns.heatmap(cf_matrix, annot=True)\n",
    "plt.xlabel('Prediction')\n",
    "plt.ylabel('Target')\n",
    "plt.title('Confusion Matrix')"
   ]
  },
  {
   "cell_type": "markdown",
   "id": "7bea8e64",
   "metadata": {},
   "source": [
    "## Pipeline for Naive Baye's Algorithm "
   ]
  },
  {
   "cell_type": "markdown",
   "id": "340cd82f",
   "metadata": {},
   "source": [
    "#### Importing of the libraries"
   ]
  },
  {
   "cell_type": "code",
   "execution_count": 55,
   "id": "7501c0f1",
   "metadata": {},
   "outputs": [],
   "source": [
    "from sklearn.pipeline import Pipeline\n",
    "from imblearn.over_sampling import SMOTE \n",
    "from sklearn.model_selection import train_test_split\n",
    "from sklearn.decomposition import PCA\n",
    "from sklearn.preprocessing import StandardScaler\n",
    "from sklearn.metrics import classification_report, confusion_matrix\n",
    "from sklearn.naive_bayes import BernoulliNB\n",
    "\n",
    "from sklearn import set_config"
   ]
  },
  {
   "cell_type": "code",
   "execution_count": 56,
   "id": "ed75fbf5",
   "metadata": {},
   "outputs": [],
   "source": [
    "# These are the estimators for the pipeline \n",
    "pca = PCA(n_components=15)\n",
    "scaler = StandardScaler()\n",
    "\n",
    "#this is the final estimator of my pipeline \n",
    "bnb=BernoulliNB()"
   ]
  },
  {
   "cell_type": "code",
   "execution_count": 57,
   "id": "ed4992f9",
   "metadata": {},
   "outputs": [],
   "source": [
    "X_train, X_test, Y_train, Y_test = train_test_split(X, y, test_size=0.30, random_state=100)"
   ]
  },
  {
   "cell_type": "markdown",
   "id": "f677d4e3",
   "metadata": {},
   "source": [
    "#### Creation of Pipe"
   ]
  },
  {
   "cell_type": "code",
   "execution_count": 58,
   "id": "52bd5a9e",
   "metadata": {},
   "outputs": [],
   "source": [
    "naive_bayes_model_pipe=Pipeline([\n",
    "    (\"scaler\",scaler),\n",
    "    (\"pca\",pca),\n",
    "    (\"bnb\",bnb)\n",
    "])"
   ]
  },
  {
   "cell_type": "code",
   "execution_count": 59,
   "id": "45e90eed",
   "metadata": {},
   "outputs": [],
   "source": [
    "set_config(display=\"diagram\")"
   ]
  },
  {
   "cell_type": "markdown",
   "id": "dbbcc928",
   "metadata": {},
   "source": [
    "##### Structure of pipeline in diagramatic manner "
   ]
  },
  {
   "cell_type": "code",
   "execution_count": 60,
   "id": "343f2d64",
   "metadata": {},
   "outputs": [
    {
     "data": {
      "text/html": [
       "<style>#sk-container-id-4 {color: black;}#sk-container-id-4 pre{padding: 0;}#sk-container-id-4 div.sk-toggleable {background-color: white;}#sk-container-id-4 label.sk-toggleable__label {cursor: pointer;display: block;width: 100%;margin-bottom: 0;padding: 0.3em;box-sizing: border-box;text-align: center;}#sk-container-id-4 label.sk-toggleable__label-arrow:before {content: \"▸\";float: left;margin-right: 0.25em;color: #696969;}#sk-container-id-4 label.sk-toggleable__label-arrow:hover:before {color: black;}#sk-container-id-4 div.sk-estimator:hover label.sk-toggleable__label-arrow:before {color: black;}#sk-container-id-4 div.sk-toggleable__content {max-height: 0;max-width: 0;overflow: hidden;text-align: left;background-color: #f0f8ff;}#sk-container-id-4 div.sk-toggleable__content pre {margin: 0.2em;color: black;border-radius: 0.25em;background-color: #f0f8ff;}#sk-container-id-4 input.sk-toggleable__control:checked~div.sk-toggleable__content {max-height: 200px;max-width: 100%;overflow: auto;}#sk-container-id-4 input.sk-toggleable__control:checked~label.sk-toggleable__label-arrow:before {content: \"▾\";}#sk-container-id-4 div.sk-estimator input.sk-toggleable__control:checked~label.sk-toggleable__label {background-color: #d4ebff;}#sk-container-id-4 div.sk-label input.sk-toggleable__control:checked~label.sk-toggleable__label {background-color: #d4ebff;}#sk-container-id-4 input.sk-hidden--visually {border: 0;clip: rect(1px 1px 1px 1px);clip: rect(1px, 1px, 1px, 1px);height: 1px;margin: -1px;overflow: hidden;padding: 0;position: absolute;width: 1px;}#sk-container-id-4 div.sk-estimator {font-family: monospace;background-color: #f0f8ff;border: 1px dotted black;border-radius: 0.25em;box-sizing: border-box;margin-bottom: 0.5em;}#sk-container-id-4 div.sk-estimator:hover {background-color: #d4ebff;}#sk-container-id-4 div.sk-parallel-item::after {content: \"\";width: 100%;border-bottom: 1px solid gray;flex-grow: 1;}#sk-container-id-4 div.sk-label:hover label.sk-toggleable__label {background-color: #d4ebff;}#sk-container-id-4 div.sk-serial::before {content: \"\";position: absolute;border-left: 1px solid gray;box-sizing: border-box;top: 0;bottom: 0;left: 50%;z-index: 0;}#sk-container-id-4 div.sk-serial {display: flex;flex-direction: column;align-items: center;background-color: white;padding-right: 0.2em;padding-left: 0.2em;position: relative;}#sk-container-id-4 div.sk-item {position: relative;z-index: 1;}#sk-container-id-4 div.sk-parallel {display: flex;align-items: stretch;justify-content: center;background-color: white;position: relative;}#sk-container-id-4 div.sk-item::before, #sk-container-id-4 div.sk-parallel-item::before {content: \"\";position: absolute;border-left: 1px solid gray;box-sizing: border-box;top: 0;bottom: 0;left: 50%;z-index: -1;}#sk-container-id-4 div.sk-parallel-item {display: flex;flex-direction: column;z-index: 1;position: relative;background-color: white;}#sk-container-id-4 div.sk-parallel-item:first-child::after {align-self: flex-end;width: 50%;}#sk-container-id-4 div.sk-parallel-item:last-child::after {align-self: flex-start;width: 50%;}#sk-container-id-4 div.sk-parallel-item:only-child::after {width: 0;}#sk-container-id-4 div.sk-dashed-wrapped {border: 1px dashed gray;margin: 0 0.4em 0.5em 0.4em;box-sizing: border-box;padding-bottom: 0.4em;background-color: white;}#sk-container-id-4 div.sk-label label {font-family: monospace;font-weight: bold;display: inline-block;line-height: 1.2em;}#sk-container-id-4 div.sk-label-container {text-align: center;}#sk-container-id-4 div.sk-container {/* jupyter's `normalize.less` sets `[hidden] { display: none; }` but bootstrap.min.css set `[hidden] { display: none !important; }` so we also need the `!important` here to be able to override the default hidden behavior on the sphinx rendered scikit-learn.org. See: https://github.com/scikit-learn/scikit-learn/issues/21755 */display: inline-block !important;position: relative;}#sk-container-id-4 div.sk-text-repr-fallback {display: none;}</style><div id=\"sk-container-id-4\" class=\"sk-top-container\"><div class=\"sk-text-repr-fallback\"><pre>Pipeline(steps=[(&#x27;scaler&#x27;, StandardScaler()), (&#x27;pca&#x27;, PCA(n_components=15)),\n",
       "                (&#x27;bnb&#x27;, BernoulliNB())])</pre><b>In a Jupyter environment, please rerun this cell to show the HTML representation or trust the notebook. <br />On GitHub, the HTML representation is unable to render, please try loading this page with nbviewer.org.</b></div><div class=\"sk-container\" hidden><div class=\"sk-item sk-dashed-wrapped\"><div class=\"sk-label-container\"><div class=\"sk-label sk-toggleable\"><input class=\"sk-toggleable__control sk-hidden--visually\" id=\"sk-estimator-id-4\" type=\"checkbox\" ><label for=\"sk-estimator-id-4\" class=\"sk-toggleable__label sk-toggleable__label-arrow\">Pipeline</label><div class=\"sk-toggleable__content\"><pre>Pipeline(steps=[(&#x27;scaler&#x27;, StandardScaler()), (&#x27;pca&#x27;, PCA(n_components=15)),\n",
       "                (&#x27;bnb&#x27;, BernoulliNB())])</pre></div></div></div><div class=\"sk-serial\"><div class=\"sk-item\"><div class=\"sk-estimator sk-toggleable\"><input class=\"sk-toggleable__control sk-hidden--visually\" id=\"sk-estimator-id-5\" type=\"checkbox\" ><label for=\"sk-estimator-id-5\" class=\"sk-toggleable__label sk-toggleable__label-arrow\">StandardScaler</label><div class=\"sk-toggleable__content\"><pre>StandardScaler()</pre></div></div></div><div class=\"sk-item\"><div class=\"sk-estimator sk-toggleable\"><input class=\"sk-toggleable__control sk-hidden--visually\" id=\"sk-estimator-id-6\" type=\"checkbox\" ><label for=\"sk-estimator-id-6\" class=\"sk-toggleable__label sk-toggleable__label-arrow\">PCA</label><div class=\"sk-toggleable__content\"><pre>PCA(n_components=15)</pre></div></div></div><div class=\"sk-item\"><div class=\"sk-estimator sk-toggleable\"><input class=\"sk-toggleable__control sk-hidden--visually\" id=\"sk-estimator-id-7\" type=\"checkbox\" ><label for=\"sk-estimator-id-7\" class=\"sk-toggleable__label sk-toggleable__label-arrow\">BernoulliNB</label><div class=\"sk-toggleable__content\"><pre>BernoulliNB()</pre></div></div></div></div></div></div></div>"
      ],
      "text/plain": [
       "Pipeline(steps=[('scaler', StandardScaler()), ('pca', PCA(n_components=15)),\n",
       "                ('bnb', BernoulliNB())])"
      ]
     },
     "execution_count": 60,
     "metadata": {},
     "output_type": "execute_result"
    }
   ],
   "source": [
    "naive_bayes_model_pipe"
   ]
  },
  {
   "cell_type": "markdown",
   "id": "1324059f",
   "metadata": {},
   "source": [
    "****Fitting of the pipeline model****"
   ]
  },
  {
   "cell_type": "code",
   "execution_count": 61,
   "id": "7e1c7bd0",
   "metadata": {},
   "outputs": [
    {
     "data": {
      "text/html": [
       "<style>#sk-container-id-5 {color: black;}#sk-container-id-5 pre{padding: 0;}#sk-container-id-5 div.sk-toggleable {background-color: white;}#sk-container-id-5 label.sk-toggleable__label {cursor: pointer;display: block;width: 100%;margin-bottom: 0;padding: 0.3em;box-sizing: border-box;text-align: center;}#sk-container-id-5 label.sk-toggleable__label-arrow:before {content: \"▸\";float: left;margin-right: 0.25em;color: #696969;}#sk-container-id-5 label.sk-toggleable__label-arrow:hover:before {color: black;}#sk-container-id-5 div.sk-estimator:hover label.sk-toggleable__label-arrow:before {color: black;}#sk-container-id-5 div.sk-toggleable__content {max-height: 0;max-width: 0;overflow: hidden;text-align: left;background-color: #f0f8ff;}#sk-container-id-5 div.sk-toggleable__content pre {margin: 0.2em;color: black;border-radius: 0.25em;background-color: #f0f8ff;}#sk-container-id-5 input.sk-toggleable__control:checked~div.sk-toggleable__content {max-height: 200px;max-width: 100%;overflow: auto;}#sk-container-id-5 input.sk-toggleable__control:checked~label.sk-toggleable__label-arrow:before {content: \"▾\";}#sk-container-id-5 div.sk-estimator input.sk-toggleable__control:checked~label.sk-toggleable__label {background-color: #d4ebff;}#sk-container-id-5 div.sk-label input.sk-toggleable__control:checked~label.sk-toggleable__label {background-color: #d4ebff;}#sk-container-id-5 input.sk-hidden--visually {border: 0;clip: rect(1px 1px 1px 1px);clip: rect(1px, 1px, 1px, 1px);height: 1px;margin: -1px;overflow: hidden;padding: 0;position: absolute;width: 1px;}#sk-container-id-5 div.sk-estimator {font-family: monospace;background-color: #f0f8ff;border: 1px dotted black;border-radius: 0.25em;box-sizing: border-box;margin-bottom: 0.5em;}#sk-container-id-5 div.sk-estimator:hover {background-color: #d4ebff;}#sk-container-id-5 div.sk-parallel-item::after {content: \"\";width: 100%;border-bottom: 1px solid gray;flex-grow: 1;}#sk-container-id-5 div.sk-label:hover label.sk-toggleable__label {background-color: #d4ebff;}#sk-container-id-5 div.sk-serial::before {content: \"\";position: absolute;border-left: 1px solid gray;box-sizing: border-box;top: 0;bottom: 0;left: 50%;z-index: 0;}#sk-container-id-5 div.sk-serial {display: flex;flex-direction: column;align-items: center;background-color: white;padding-right: 0.2em;padding-left: 0.2em;position: relative;}#sk-container-id-5 div.sk-item {position: relative;z-index: 1;}#sk-container-id-5 div.sk-parallel {display: flex;align-items: stretch;justify-content: center;background-color: white;position: relative;}#sk-container-id-5 div.sk-item::before, #sk-container-id-5 div.sk-parallel-item::before {content: \"\";position: absolute;border-left: 1px solid gray;box-sizing: border-box;top: 0;bottom: 0;left: 50%;z-index: -1;}#sk-container-id-5 div.sk-parallel-item {display: flex;flex-direction: column;z-index: 1;position: relative;background-color: white;}#sk-container-id-5 div.sk-parallel-item:first-child::after {align-self: flex-end;width: 50%;}#sk-container-id-5 div.sk-parallel-item:last-child::after {align-self: flex-start;width: 50%;}#sk-container-id-5 div.sk-parallel-item:only-child::after {width: 0;}#sk-container-id-5 div.sk-dashed-wrapped {border: 1px dashed gray;margin: 0 0.4em 0.5em 0.4em;box-sizing: border-box;padding-bottom: 0.4em;background-color: white;}#sk-container-id-5 div.sk-label label {font-family: monospace;font-weight: bold;display: inline-block;line-height: 1.2em;}#sk-container-id-5 div.sk-label-container {text-align: center;}#sk-container-id-5 div.sk-container {/* jupyter's `normalize.less` sets `[hidden] { display: none; }` but bootstrap.min.css set `[hidden] { display: none !important; }` so we also need the `!important` here to be able to override the default hidden behavior on the sphinx rendered scikit-learn.org. See: https://github.com/scikit-learn/scikit-learn/issues/21755 */display: inline-block !important;position: relative;}#sk-container-id-5 div.sk-text-repr-fallback {display: none;}</style><div id=\"sk-container-id-5\" class=\"sk-top-container\"><div class=\"sk-text-repr-fallback\"><pre>Pipeline(steps=[(&#x27;scaler&#x27;, StandardScaler()), (&#x27;pca&#x27;, PCA(n_components=15)),\n",
       "                (&#x27;bnb&#x27;, BernoulliNB())])</pre><b>In a Jupyter environment, please rerun this cell to show the HTML representation or trust the notebook. <br />On GitHub, the HTML representation is unable to render, please try loading this page with nbviewer.org.</b></div><div class=\"sk-container\" hidden><div class=\"sk-item sk-dashed-wrapped\"><div class=\"sk-label-container\"><div class=\"sk-label sk-toggleable\"><input class=\"sk-toggleable__control sk-hidden--visually\" id=\"sk-estimator-id-8\" type=\"checkbox\" ><label for=\"sk-estimator-id-8\" class=\"sk-toggleable__label sk-toggleable__label-arrow\">Pipeline</label><div class=\"sk-toggleable__content\"><pre>Pipeline(steps=[(&#x27;scaler&#x27;, StandardScaler()), (&#x27;pca&#x27;, PCA(n_components=15)),\n",
       "                (&#x27;bnb&#x27;, BernoulliNB())])</pre></div></div></div><div class=\"sk-serial\"><div class=\"sk-item\"><div class=\"sk-estimator sk-toggleable\"><input class=\"sk-toggleable__control sk-hidden--visually\" id=\"sk-estimator-id-9\" type=\"checkbox\" ><label for=\"sk-estimator-id-9\" class=\"sk-toggleable__label sk-toggleable__label-arrow\">StandardScaler</label><div class=\"sk-toggleable__content\"><pre>StandardScaler()</pre></div></div></div><div class=\"sk-item\"><div class=\"sk-estimator sk-toggleable\"><input class=\"sk-toggleable__control sk-hidden--visually\" id=\"sk-estimator-id-10\" type=\"checkbox\" ><label for=\"sk-estimator-id-10\" class=\"sk-toggleable__label sk-toggleable__label-arrow\">PCA</label><div class=\"sk-toggleable__content\"><pre>PCA(n_components=15)</pre></div></div></div><div class=\"sk-item\"><div class=\"sk-estimator sk-toggleable\"><input class=\"sk-toggleable__control sk-hidden--visually\" id=\"sk-estimator-id-11\" type=\"checkbox\" ><label for=\"sk-estimator-id-11\" class=\"sk-toggleable__label sk-toggleable__label-arrow\">BernoulliNB</label><div class=\"sk-toggleable__content\"><pre>BernoulliNB()</pre></div></div></div></div></div></div></div>"
      ],
      "text/plain": [
       "Pipeline(steps=[('scaler', StandardScaler()), ('pca', PCA(n_components=15)),\n",
       "                ('bnb', BernoulliNB())])"
      ]
     },
     "execution_count": 61,
     "metadata": {},
     "output_type": "execute_result"
    }
   ],
   "source": [
    "naive_bayes_model_pipe.fit(X_train,Y_train)"
   ]
  },
  {
   "cell_type": "code",
   "execution_count": 62,
   "id": "902f9f7e",
   "metadata": {},
   "outputs": [],
   "source": [
    "Y_pred=naive_bayes_model_pipe.predict(X_test)"
   ]
  },
  {
   "cell_type": "code",
   "execution_count": 63,
   "id": "da4fc8f9",
   "metadata": {},
   "outputs": [
    {
     "data": {
      "text/plain": [
       "47721    1\n",
       "5067     0\n",
       "59447    0\n",
       "46473    1\n",
       "65245    0\n",
       "Name: LoanStatus, dtype: int64"
      ]
     },
     "execution_count": 63,
     "metadata": {},
     "output_type": "execute_result"
    }
   ],
   "source": [
    "Y_test[:5]"
   ]
  },
  {
   "cell_type": "code",
   "execution_count": 64,
   "id": "ac2f2549",
   "metadata": {},
   "outputs": [
    {
     "data": {
      "text/plain": [
       "array([1, 0, 1, 1, 0], dtype=int64)"
      ]
     },
     "execution_count": 64,
     "metadata": {},
     "output_type": "execute_result"
    }
   ],
   "source": [
    "Y_pred[:5]"
   ]
  },
  {
   "cell_type": "code",
   "execution_count": 65,
   "id": "388e9bb6",
   "metadata": {},
   "outputs": [
    {
     "name": "stdout",
     "output_type": "stream",
     "text": [
      "test accuracy =  80.95 %\n"
     ]
    }
   ],
   "source": [
    "print('test accuracy = ', round(accuracy_score(Y_test, Y_pred)*100, 2), '%')"
   ]
  },
  {
   "cell_type": "markdown",
   "id": "9e893c2f",
   "metadata": {},
   "source": [
    "**The Accuracy of the Naive Baye's Model using Pipeline is 86.71%\"**"
   ]
  },
  {
   "cell_type": "code",
   "execution_count": 66,
   "id": "04d7b771",
   "metadata": {},
   "outputs": [
    {
     "name": "stdout",
     "output_type": "stream",
     "text": [
      "              precision    recall  f1-score   support\n",
      "\n",
      "           0      0.826     0.782     0.804     10030\n",
      "           1      0.794     0.836     0.815     10088\n",
      "\n",
      "    accuracy                          0.809     20118\n",
      "   macro avg      0.810     0.809     0.809     20118\n",
      "weighted avg      0.810     0.809     0.809     20118\n",
      "\n"
     ]
    }
   ],
   "source": [
    "print(classification_report(Y_test, Y_pred, digits=3))"
   ]
  },
  {
   "cell_type": "code",
   "execution_count": 67,
   "id": "0407316e",
   "metadata": {},
   "outputs": [
    {
     "data": {
      "text/plain": [
       "Text(0.5, 1.0, 'Confusion Matrix')"
      ]
     },
     "execution_count": 67,
     "metadata": {},
     "output_type": "execute_result"
    },
    {
     "data": {
      "image/png": "[encoded data removed]",
      "text/plain": [
       "<Figure size 640x480 with 2 Axes>"
      ]
     },
     "metadata": {},
     "output_type": "display_data"
    }
   ],
   "source": [
    "cf_matrix = confusion_matrix(Y_test, Y_pred)\n",
    "plt.figure()\n",
    "sns.heatmap(cf_matrix, annot=True)\n",
    "plt.xlabel('Prediction')\n",
    "plt.ylabel('Target')\n",
    "plt.title('Confusion Matrix')"
   ]
  },
  {
   "cell_type": "markdown",
   "id": "4cebb3ce",
   "metadata": {},
   "source": [
    "## Pipeline for Logistic Regression Model"
   ]
  },
  {
   "cell_type": "code",
   "execution_count": 68,
   "id": "f66f31d9",
   "metadata": {},
   "outputs": [],
   "source": [
    "lg_model_pipeline=Pipeline([\n",
    "    (\"scaler\",scaler),\n",
    "    (\"pca\",pca),\n",
    "    (\"lgmodel\",lgmodel)\n",
    "])"
   ]
  },
  {
   "cell_type": "code",
   "execution_count": 69,
   "id": "c34ecf24",
   "metadata": {},
   "outputs": [
    {
     "data": {
      "text/html": [
       "<style>#sk-container-id-6 {color: black;}#sk-container-id-6 pre{padding: 0;}#sk-container-id-6 div.sk-toggleable {background-color: white;}#sk-container-id-6 label.sk-toggleable__label {cursor: pointer;display: block;width: 100%;margin-bottom: 0;padding: 0.3em;box-sizing: border-box;text-align: center;}#sk-container-id-6 label.sk-toggleable__label-arrow:before {content: \"▸\";float: left;margin-right: 0.25em;color: #696969;}#sk-container-id-6 label.sk-toggleable__label-arrow:hover:before {color: black;}#sk-container-id-6 div.sk-estimator:hover label.sk-toggleable__label-arrow:before {color: black;}#sk-container-id-6 div.sk-toggleable__content {max-height: 0;max-width: 0;overflow: hidden;text-align: left;background-color: #f0f8ff;}#sk-container-id-6 div.sk-toggleable__content pre {margin: 0.2em;color: black;border-radius: 0.25em;background-color: #f0f8ff;}#sk-container-id-6 input.sk-toggleable__control:checked~div.sk-toggleable__content {max-height: 200px;max-width: 100%;overflow: auto;}#sk-container-id-6 input.sk-toggleable__control:checked~label.sk-toggleable__label-arrow:before {content: \"▾\";}#sk-container-id-6 div.sk-estimator input.sk-toggleable__control:checked~label.sk-toggleable__label {background-color: #d4ebff;}#sk-container-id-6 div.sk-label input.sk-toggleable__control:checked~label.sk-toggleable__label {background-color: #d4ebff;}#sk-container-id-6 input.sk-hidden--visually {border: 0;clip: rect(1px 1px 1px 1px);clip: rect(1px, 1px, 1px, 1px);height: 1px;margin: -1px;overflow: hidden;padding: 0;position: absolute;width: 1px;}#sk-container-id-6 div.sk-estimator {font-family: monospace;background-color: #f0f8ff;border: 1px dotted black;border-radius: 0.25em;box-sizing: border-box;margin-bottom: 0.5em;}#sk-container-id-6 div.sk-estimator:hover {background-color: #d4ebff;}#sk-container-id-6 div.sk-parallel-item::after {content: \"\";width: 100%;border-bottom: 1px solid gray;flex-grow: 1;}#sk-container-id-6 div.sk-label:hover label.sk-toggleable__label {background-color: #d4ebff;}#sk-container-id-6 div.sk-serial::before {content: \"\";position: absolute;border-left: 1px solid gray;box-sizing: border-box;top: 0;bottom: 0;left: 50%;z-index: 0;}#sk-container-id-6 div.sk-serial {display: flex;flex-direction: column;align-items: center;background-color: white;padding-right: 0.2em;padding-left: 0.2em;position: relative;}#sk-container-id-6 div.sk-item {position: relative;z-index: 1;}#sk-container-id-6 div.sk-parallel {display: flex;align-items: stretch;justify-content: center;background-color: white;position: relative;}#sk-container-id-6 div.sk-item::before, #sk-container-id-6 div.sk-parallel-item::before {content: \"\";position: absolute;border-left: 1px solid gray;box-sizing: border-box;top: 0;bottom: 0;left: 50%;z-index: -1;}#sk-container-id-6 div.sk-parallel-item {display: flex;flex-direction: column;z-index: 1;position: relative;background-color: white;}#sk-container-id-6 div.sk-parallel-item:first-child::after {align-self: flex-end;width: 50%;}#sk-container-id-6 div.sk-parallel-item:last-child::after {align-self: flex-start;width: 50%;}#sk-container-id-6 div.sk-parallel-item:only-child::after {width: 0;}#sk-container-id-6 div.sk-dashed-wrapped {border: 1px dashed gray;margin: 0 0.4em 0.5em 0.4em;box-sizing: border-box;padding-bottom: 0.4em;background-color: white;}#sk-container-id-6 div.sk-label label {font-family: monospace;font-weight: bold;display: inline-block;line-height: 1.2em;}#sk-container-id-6 div.sk-label-container {text-align: center;}#sk-container-id-6 div.sk-container {/* jupyter's `normalize.less` sets `[hidden] { display: none; }` but bootstrap.min.css set `[hidden] { display: none !important; }` so we also need the `!important` here to be able to override the default hidden behavior on the sphinx rendered scikit-learn.org. See: https://github.com/scikit-learn/scikit-learn/issues/21755 */display: inline-block !important;position: relative;}#sk-container-id-6 div.sk-text-repr-fallback {display: none;}</style><div id=\"sk-container-id-6\" class=\"sk-top-container\"><div class=\"sk-text-repr-fallback\"><pre>Pipeline(steps=[(&#x27;scaler&#x27;, StandardScaler()), (&#x27;pca&#x27;, PCA(n_components=15)),\n",
       "                (&#x27;lgmodel&#x27;, LogisticRegression())])</pre><b>In a Jupyter environment, please rerun this cell to show the HTML representation or trust the notebook. <br />On GitHub, the HTML representation is unable to render, please try loading this page with nbviewer.org.</b></div><div class=\"sk-container\" hidden><div class=\"sk-item sk-dashed-wrapped\"><div class=\"sk-label-container\"><div class=\"sk-label sk-toggleable\"><input class=\"sk-toggleable__control sk-hidden--visually\" id=\"sk-estimator-id-12\" type=\"checkbox\" ><label for=\"sk-estimator-id-12\" class=\"sk-toggleable__label sk-toggleable__label-arrow\">Pipeline</label><div class=\"sk-toggleable__content\"><pre>Pipeline(steps=[(&#x27;scaler&#x27;, StandardScaler()), (&#x27;pca&#x27;, PCA(n_components=15)),\n",
       "                (&#x27;lgmodel&#x27;, LogisticRegression())])</pre></div></div></div><div class=\"sk-serial\"><div class=\"sk-item\"><div class=\"sk-estimator sk-toggleable\"><input class=\"sk-toggleable__control sk-hidden--visually\" id=\"sk-estimator-id-13\" type=\"checkbox\" ><label for=\"sk-estimator-id-13\" class=\"sk-toggleable__label sk-toggleable__label-arrow\">StandardScaler</label><div class=\"sk-toggleable__content\"><pre>StandardScaler()</pre></div></div></div><div class=\"sk-item\"><div class=\"sk-estimator sk-toggleable\"><input class=\"sk-toggleable__control sk-hidden--visually\" id=\"sk-estimator-id-14\" type=\"checkbox\" ><label for=\"sk-estimator-id-14\" class=\"sk-toggleable__label sk-toggleable__label-arrow\">PCA</label><div class=\"sk-toggleable__content\"><pre>PCA(n_components=15)</pre></div></div></div><div class=\"sk-item\"><div class=\"sk-estimator sk-toggleable\"><input class=\"sk-toggleable__control sk-hidden--visually\" id=\"sk-estimator-id-15\" type=\"checkbox\" ><label for=\"sk-estimator-id-15\" class=\"sk-toggleable__label sk-toggleable__label-arrow\">LogisticRegression</label><div class=\"sk-toggleable__content\"><pre>LogisticRegression()</pre></div></div></div></div></div></div></div>"
      ],
      "text/plain": [
       "Pipeline(steps=[('scaler', StandardScaler()), ('pca', PCA(n_components=15)),\n",
       "                ('lgmodel', LogisticRegression())])"
      ]
     },
     "execution_count": 69,
     "metadata": {},
     "output_type": "execute_result"
    }
   ],
   "source": [
    "lg_model_pipeline.fit(X_train,Y_train)"
   ]
  },
  {
   "cell_type": "code",
   "execution_count": 70,
   "id": "36cf7744",
   "metadata": {},
   "outputs": [],
   "source": [
    "Y_predict=lg_model_pipeline.predict(X_test)"
   ]
  },
  {
   "cell_type": "code",
   "execution_count": 71,
   "id": "72c5a333",
   "metadata": {},
   "outputs": [
    {
     "name": "stdout",
     "output_type": "stream",
     "text": [
      "test accuracy =  98.56 %\n"
     ]
    }
   ],
   "source": [
    "print('test accuracy = ', round(accuracy_score(Y_test, Y_predict)*100, 2), '%')"
   ]
  },
  {
   "cell_type": "markdown",
   "id": "503424a7",
   "metadata": {},
   "source": [
    "***The Accuracy of the Logistic Regression Model using pipeline is 98.03%***"
   ]
  },
  {
   "cell_type": "code",
   "execution_count": 72,
   "id": "782f7a1b",
   "metadata": {},
   "outputs": [
    {
     "name": "stdout",
     "output_type": "stream",
     "text": [
      "              precision    recall  f1-score   support\n",
      "\n",
      "           0      0.998     0.973     0.985     10030\n",
      "           1      0.974     0.998     0.986     10088\n",
      "\n",
      "    accuracy                          0.986     20118\n",
      "   macro avg      0.986     0.986     0.986     20118\n",
      "weighted avg      0.986     0.986     0.986     20118\n",
      "\n"
     ]
    }
   ],
   "source": [
    "print(classification_report(Y_test, Y_predict, digits=3))"
   ]
  },
  {
   "cell_type": "code",
   "execution_count": 73,
   "id": "21955f2d",
   "metadata": {},
   "outputs": [
    {
     "data": {
      "text/plain": [
       "Text(0.5, 1.0, 'Confusion Matrix')"
      ]
     },
     "execution_count": 73,
     "metadata": {},
     "output_type": "execute_result"
    },
    {
     "data": {
      "image/png": "[encoded data removed]",
      "text/plain": [
       "<Figure size 640x480 with 2 Axes>"
      ]
     },
     "metadata": {},
     "output_type": "display_data"
    }
   ],
   "source": [
    "cf_matrix = confusion_matrix(Y_test, Y_predict)\n",
    "plt.figure()\n",
    "sns.heatmap(cf_matrix, annot=True)\n",
    "plt.xlabel('Prediction')\n",
    "plt.ylabel('Target')\n",
    "plt.title('Confusion Matrix')"
   ]
  },
  {
   "cell_type": "markdown",
   "id": "1be41ec7",
   "metadata": {},
   "source": [
    "# Final Classification Pipeline "
   ]
  },
  {
   "cell_type": "code",
   "execution_count": 74,
   "id": "7e090e7a",
   "metadata": {},
   "outputs": [],
   "source": [
    "estimators = [('BNB', bnb),  (\"logistic\",lgmodel)]\n",
    "clf = StackingClassifier(estimators=estimators)"
   ]
  },
  {
   "cell_type": "code",
   "execution_count": 75,
   "id": "ff8f1485",
   "metadata": {},
   "outputs": [],
   "source": [
    "classification_models = Pipeline([\n",
    "    ('stdscaler', scaler),\n",
    "    ('pca', pca),\n",
    "    ('classifier', clf)\n",
    "])"
   ]
  },
  {
   "cell_type": "code",
   "execution_count": 76,
   "id": "6a448e25",
   "metadata": {},
   "outputs": [
    {
     "data": {
      "text/html": [
       "<style>#sk-container-id-7 {color: black;}#sk-container-id-7 pre{padding: 0;}#sk-container-id-7 div.sk-toggleable {background-color: white;}#sk-container-id-7 label.sk-toggleable__label {cursor: pointer;display: block;width: 100%;margin-bottom: 0;padding: 0.3em;box-sizing: border-box;text-align: center;}#sk-container-id-7 label.sk-toggleable__label-arrow:before {content: \"▸\";float: left;margin-right: 0.25em;color: #696969;}#sk-container-id-7 label.sk-toggleable__label-arrow:hover:before {color: black;}#sk-container-id-7 div.sk-estimator:hover label.sk-toggleable__label-arrow:before {color: black;}#sk-container-id-7 div.sk-toggleable__content {max-height: 0;max-width: 0;overflow: hidden;text-align: left;background-color: #f0f8ff;}#sk-container-id-7 div.sk-toggleable__content pre {margin: 0.2em;color: black;border-radius: 0.25em;background-color: #f0f8ff;}#sk-container-id-7 input.sk-toggleable__control:checked~div.sk-toggleable__content {max-height: 200px;max-width: 100%;overflow: auto;}#sk-container-id-7 input.sk-toggleable__control:checked~label.sk-toggleable__label-arrow:before {content: \"▾\";}#sk-container-id-7 div.sk-estimator input.sk-toggleable__control:checked~label.sk-toggleable__label {background-color: #d4ebff;}#sk-container-id-7 div.sk-label input.sk-toggleable__control:checked~label.sk-toggleable__label {background-color: #d4ebff;}#sk-container-id-7 input.sk-hidden--visually {border: 0;clip: rect(1px 1px 1px 1px);clip: rect(1px, 1px, 1px, 1px);height: 1px;margin: -1px;overflow: hidden;padding: 0;position: absolute;width: 1px;}#sk-container-id-7 div.sk-estimator {font-family: monospace;background-color: #f0f8ff;border: 1px dotted black;border-radius: 0.25em;box-sizing: border-box;margin-bottom: 0.5em;}#sk-container-id-7 div.sk-estimator:hover {background-color: #d4ebff;}#sk-container-id-7 div.sk-parallel-item::after {content: \"\";width: 100%;border-bottom: 1px solid gray;flex-grow: 1;}#sk-container-id-7 div.sk-label:hover label.sk-toggleable__label {background-color: #d4ebff;}#sk-container-id-7 div.sk-serial::before {content: \"\";position: absolute;border-left: 1px solid gray;box-sizing: border-box;top: 0;bottom: 0;left: 50%;z-index: 0;}#sk-container-id-7 div.sk-serial {display: flex;flex-direction: column;align-items: center;background-color: white;padding-right: 0.2em;padding-left: 0.2em;position: relative;}#sk-container-id-7 div.sk-item {position: relative;z-index: 1;}#sk-container-id-7 div.sk-parallel {display: flex;align-items: stretch;justify-content: center;background-color: white;position: relative;}#sk-container-id-7 div.sk-item::before, #sk-container-id-7 div.sk-parallel-item::before {content: \"\";position: absolute;border-left: 1px solid gray;box-sizing: border-box;top: 0;bottom: 0;left: 50%;z-index: -1;}#sk-container-id-7 div.sk-parallel-item {display: flex;flex-direction: column;z-index: 1;position: relative;background-color: white;}#sk-container-id-7 div.sk-parallel-item:first-child::after {align-self: flex-end;width: 50%;}#sk-container-id-7 div.sk-parallel-item:last-child::after {align-self: flex-start;width: 50%;}#sk-container-id-7 div.sk-parallel-item:only-child::after {width: 0;}#sk-container-id-7 div.sk-dashed-wrapped {border: 1px dashed gray;margin: 0 0.4em 0.5em 0.4em;box-sizing: border-box;padding-bottom: 0.4em;background-color: white;}#sk-container-id-7 div.sk-label label {font-family: monospace;font-weight: bold;display: inline-block;line-height: 1.2em;}#sk-container-id-7 div.sk-label-container {text-align: center;}#sk-container-id-7 div.sk-container {/* jupyter's `normalize.less` sets `[hidden] { display: none; }` but bootstrap.min.css set `[hidden] { display: none !important; }` so we also need the `!important` here to be able to override the default hidden behavior on the sphinx rendered scikit-learn.org. See: https://github.com/scikit-learn/scikit-learn/issues/21755 */display: inline-block !important;position: relative;}#sk-container-id-7 div.sk-text-repr-fallback {display: none;}</style><div id=\"sk-container-id-7\" class=\"sk-top-container\"><div class=\"sk-text-repr-fallback\"><pre>Pipeline(steps=[(&#x27;stdscaler&#x27;, StandardScaler()), (&#x27;pca&#x27;, PCA(n_components=15)),\n",
       "                (&#x27;classifier&#x27;,\n",
       "                 StackingClassifier(estimators=[(&#x27;BNB&#x27;, BernoulliNB()),\n",
       "                                                (&#x27;logistic&#x27;,\n",
       "                                                 LogisticRegression())]))])</pre><b>In a Jupyter environment, please rerun this cell to show the HTML representation or trust the notebook. <br />On GitHub, the HTML representation is unable to render, please try loading this page with nbviewer.org.</b></div><div class=\"sk-container\" hidden><div class=\"sk-item sk-dashed-wrapped\"><div class=\"sk-label-container\"><div class=\"sk-label sk-toggleable\"><input class=\"sk-toggleable__control sk-hidden--visually\" id=\"sk-estimator-id-16\" type=\"checkbox\" ><label for=\"sk-estimator-id-16\" class=\"sk-toggleable__label sk-toggleable__label-arrow\">Pipeline</label><div class=\"sk-toggleable__content\"><pre>Pipeline(steps=[(&#x27;stdscaler&#x27;, StandardScaler()), (&#x27;pca&#x27;, PCA(n_components=15)),\n",
       "                (&#x27;classifier&#x27;,\n",
       "                 StackingClassifier(estimators=[(&#x27;BNB&#x27;, BernoulliNB()),\n",
       "                                                (&#x27;logistic&#x27;,\n",
       "                                                 LogisticRegression())]))])</pre></div></div></div><div class=\"sk-serial\"><div class=\"sk-item\"><div class=\"sk-estimator sk-toggleable\"><input class=\"sk-toggleable__control sk-hidden--visually\" id=\"sk-estimator-id-17\" type=\"checkbox\" ><label for=\"sk-estimator-id-17\" class=\"sk-toggleable__label sk-toggleable__label-arrow\">StandardScaler</label><div class=\"sk-toggleable__content\"><pre>StandardScaler()</pre></div></div></div><div class=\"sk-item\"><div class=\"sk-estimator sk-toggleable\"><input class=\"sk-toggleable__control sk-hidden--visually\" id=\"sk-estimator-id-18\" type=\"checkbox\" ><label for=\"sk-estimator-id-18\" class=\"sk-toggleable__label sk-toggleable__label-arrow\">PCA</label><div class=\"sk-toggleable__content\"><pre>PCA(n_components=15)</pre></div></div></div><div class=\"sk-item\"><div class=\"sk-label-container\"><div class=\"sk-label sk-toggleable\"><input class=\"sk-toggleable__control sk-hidden--visually\" id=\"sk-estimator-id-19\" type=\"checkbox\" ><label for=\"sk-estimator-id-19\" class=\"sk-toggleable__label sk-toggleable__label-arrow\">classifier: StackingClassifier</label><div class=\"sk-toggleable__content\"><pre>StackingClassifier(estimators=[(&#x27;BNB&#x27;, BernoulliNB()),\n",
       "                               (&#x27;logistic&#x27;, LogisticRegression())])</pre></div></div></div><div class=\"sk-serial\"><div class=\"sk-item\"><div class=\"sk-parallel\"><div class=\"sk-parallel-item\"><div class=\"sk-item\"><div class=\"sk-label-container\"><div class=\"sk-label sk-toggleable\"><label>BNB</label></div></div><div class=\"sk-serial\"><div class=\"sk-item\"><div class=\"sk-estimator sk-toggleable\"><input class=\"sk-toggleable__control sk-hidden--visually\" id=\"sk-estimator-id-20\" type=\"checkbox\" ><label for=\"sk-estimator-id-20\" class=\"sk-toggleable__label sk-toggleable__label-arrow\">BernoulliNB</label><div class=\"sk-toggleable__content\"><pre>BernoulliNB()</pre></div></div></div></div></div></div><div class=\"sk-parallel-item\"><div class=\"sk-item\"><div class=\"sk-label-container\"><div class=\"sk-label sk-toggleable\"><label>logistic</label></div></div><div class=\"sk-serial\"><div class=\"sk-item\"><div class=\"sk-estimator sk-toggleable\"><input class=\"sk-toggleable__control sk-hidden--visually\" id=\"sk-estimator-id-21\" type=\"checkbox\" ><label for=\"sk-estimator-id-21\" class=\"sk-toggleable__label sk-toggleable__label-arrow\">LogisticRegression</label><div class=\"sk-toggleable__content\"><pre>LogisticRegression()</pre></div></div></div></div></div></div></div></div><div class=\"sk-item\"><div class=\"sk-parallel\"><div class=\"sk-parallel-item\"><div class=\"sk-item\"><div class=\"sk-label-container\"><div class=\"sk-label sk-toggleable\"><label>final_estimator</label></div></div><div class=\"sk-serial\"><div class=\"sk-item\"><div class=\"sk-estimator sk-toggleable\"><input class=\"sk-toggleable__control sk-hidden--visually\" id=\"sk-estimator-id-22\" type=\"checkbox\" ><label for=\"sk-estimator-id-22\" class=\"sk-toggleable__label sk-toggleable__label-arrow\">LogisticRegression</label><div class=\"sk-toggleable__content\"><pre>LogisticRegression()</pre></div></div></div></div></div></div></div></div></div></div></div></div></div></div>"
      ],
      "text/plain": [
       "Pipeline(steps=[('stdscaler', StandardScaler()), ('pca', PCA(n_components=15)),\n",
       "                ('classifier',\n",
       "                 StackingClassifier(estimators=[('BNB', BernoulliNB()),\n",
       "                                                ('logistic',\n",
       "                                                 LogisticRegression())]))])"
      ]
     },
     "execution_count": 76,
     "metadata": {},
     "output_type": "execute_result"
    }
   ],
   "source": [
    "classification_models"
   ]
  },
  {
   "cell_type": "code",
   "execution_count": 77,
   "id": "f33bfa12",
   "metadata": {},
   "outputs": [
    {
     "name": "stdout",
     "output_type": "stream",
     "text": [
      "test accuracy =  98.9 %\n"
     ]
    }
   ],
   "source": [
    "classification_models.fit(X_train, Y_train)\n",
    "pred = classification_models.predict(X_test)\n",
    "print('test accuracy = ', round(accuracy_score(Y_test, pred)*100, 2), '%')"
   ]
  },
  {
   "cell_type": "code",
   "execution_count": 78,
   "id": "515b7780",
   "metadata": {},
   "outputs": [
    {
     "name": "stdout",
     "output_type": "stream",
     "text": [
      "              precision    recall  f1-score   support\n",
      "\n",
      "           0      0.997     0.981     0.989     10030\n",
      "           1      0.981     0.997     0.989     10088\n",
      "\n",
      "    accuracy                          0.989     20118\n",
      "   macro avg      0.989     0.989     0.989     20118\n",
      "weighted avg      0.989     0.989     0.989     20118\n",
      "\n"
     ]
    }
   ],
   "source": [
    "print(classification_report(Y_test, pred, digits=3))"
   ]
  },
  {
   "cell_type": "markdown",
   "id": "e92abd47",
   "metadata": {},
   "source": [
    "## Creating a pickle file of final Classification model"
   ]
  },
  {
   "cell_type": "markdown",
   "id": "7876e141",
   "metadata": {},
   "source": [
    "* Importing pickle library"
   ]
  },
  {
   "cell_type": "code",
   "execution_count": 79,
   "id": "6bcf4456",
   "metadata": {},
   "outputs": [],
   "source": [
    "import pickle as pkl"
   ]
  },
  {
   "cell_type": "code",
   "execution_count": 80,
   "id": "2b9ba0c1",
   "metadata": {},
   "outputs": [],
   "source": [
    "pkl.dump(classification_models, open('cls_model_final.pkl', 'wb'))"
   ]
  },
  {
   "cell_type": "markdown",
   "id": "ac400ed7",
   "metadata": {},
   "source": [
    "### The classification model pipeline is converted into pickle file and dumped with the name as \"cls_model_final\""
   ]
  },
  {
   "cell_type": "code",
   "execution_count": 81,
   "id": "bda4103e",
   "metadata": {},
   "outputs": [
    {
     "data": {
      "text/plain": [
       "['classification_model.joblib']"
      ]
     },
     "execution_count": 81,
     "metadata": {},
     "output_type": "execute_result"
    }
   ],
   "source": [
    "import joblib\n",
    "\n",
    "joblib.dump(classification_models,\"classification_model.joblib\")"
   ]
  },
  {
   "cell_type": "code",
   "execution_count": null,
   "id": "974231bb",
   "metadata": {},
   "outputs": [],
   "source": []
  }
 ],
 "metadata": {
  "kernelspec": {
   "display_name": "Python 3 (ipykernel)",
   "language": "python",
   "name": "python3"
  },
  "language_info": {
   "codemirror_mode": {
    "name": "ipython",
    "version": 3
   },
   "file_extension": ".py",
   "mimetype": "text/x-python",
   "name": "python",
   "nbconvert_exporter": "python",
   "pygments_lexer": "ipython3",
   "version": "3.10.12"
  }
 },
 "nbformat": 4,
 "nbformat_minor": 5
}
